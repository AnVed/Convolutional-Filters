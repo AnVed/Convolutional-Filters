{
 "cells": [
  {
   "cell_type": "code",
   "execution_count": 1,
   "metadata": {},
   "outputs": [
    {
     "name": "stderr",
     "output_type": "stream",
     "text": [
      "Using TensorFlow backend.\n"
     ]
    }
   ],
   "source": [
    "import os\n",
    "from PIL import Image\n",
    "import numpy as np\n",
    "from keras.layers import Input, Convolution2D, merge, Dense, Dropout, Flatten, Conv2D, MaxPooling3D\n",
    "from keras.models import Model, Sequential\n",
    "from keras.callbacks import LearningRateScheduler\n",
    "from keras import backend as K\n",
    "from keras.optimizers import Adam\n",
    "import matplotlib.pyplot as plt\n",
    "import h5py\n",
    "import math\n",
    "from skimage.io import imread\n",
    "from matplotlib import pyplot as plt\n",
    "import sklearn.feature_extraction\n",
    "import sklearn.feature_selection as t\n",
    "from keras.utils import np_utils\n",
    "from IPython.display import SVG\n",
    "from keras.utils.vis_utils import model_to_dot\n",
    "from keras.models import load_model\n",
    "import numpy as np\n",
    "import matplotlib.pyplot as plt\n",
    "from skimage import data, img_as_float\n",
    "from skimage.measure import compare_ssim as ssim\n",
    "import scipy.ndimage.filters\n",
    "import random"
   ]
  },
  {
   "cell_type": "code",
   "execution_count": 2,
   "metadata": {
    "collapsed": true
   },
   "outputs": [],
   "source": [
    "def PSNR(y_true, y_pred):\n",
    "    return 10.0 * K.log(1 / (K.mean(K.square(y_pred - y_true)))) / K.log(10.0)"
   ]
  },
  {
   "cell_type": "code",
   "execution_count": 3,
   "metadata": {
    "collapsed": true
   },
   "outputs": [],
   "source": [
    "def threecompare(in_im, out_im, pred_im):\n",
    "    img1 = out_im*255\n",
    "    img2 = in_im*255\n",
    "    kernel = np.ones((3,3))*(-1)\n",
    "    kernel[1,1] = 8\n",
    "    new_im = channels2data(img2)\n",
    "    h_im = np.zeros((img2.shape[2], img2.shape[0], img2.shape[1]))\n",
    "    for i in range(img2.shape[2]):\n",
    "        h = new_im[i]\n",
    "        h = h.reshape(img2.shape[0], img2.shape[1])\n",
    "        lap = scipy.ndimage.filters.convolve(h, kernel)\n",
    "        laps = lap*100.0/np.amax(lap)\n",
    "        h_im[i] = (h + laps/10)\n",
    "    img3 = data2channels(h_im).astype('float32')\n",
    "    img4 = pred_im*255\n",
    "    ssim1 = ssim(img1, img1, data_range=img1.max() - img1.min(), multichannel=True)\n",
    "    ssim2 = ssim(img1, img2, data_range=img2.max() - img2.min(), multichannel=True)\n",
    "    ssim3 = ssim(img1, img3, data_range=img3.max() - img3.min(), multichannel=True)\n",
    "    ssim4 = ssim(img1, img4, data_range=img4.max() - img4.min(), multichannel=True)\n",
    "    label = 'SSIM: {:.2f}'\n",
    "    print('Original image')\n",
    "    print(label.format(ssim1))\n",
    "    print('\\n'+'Bicubic image')\n",
    "    print(label.format(ssim2))\n",
    "    print('\\n'+'Bicubic with laplasian image')\n",
    "    print(label.format(ssim3))\n",
    "    print('\\n'+'Produced image')\n",
    "    print(label.format(ssim4))"
   ]
  },
  {
   "cell_type": "code",
   "execution_count": 4,
   "metadata": {
    "collapsed": true
   },
   "outputs": [],
   "source": [
    "def imload(d, mode, channels, img_rows, img_cols):\n",
    "    directory = '../Картинки/'+d\n",
    "    files = os.listdir(directory)\n",
    "    flag = True\n",
    "    i = 0\n",
    "    while flag and i < len(files):\n",
    "        if files[i] == '.DS_Store':\n",
    "            del files[i]\n",
    "            flag = False\n",
    "        i+= 1\n",
    "    num = 0\n",
    "    for name in range(len(files)):\n",
    "        im = Image.open(directory+'/'+ files[name]).convert('L')\n",
    "        width, height = im.size\n",
    "        num += (width//img_rows)*(height//img_cols)\n",
    "    num = num*4\n",
    "    x = np.zeros((num, img_rows, img_cols, channels))\n",
    "    y = np.zeros((num, img_rows, img_cols, channels))\n",
    "    num1 = np.zeros((num))\n",
    "    num = 0\n",
    "    for name in range(len(files)):\n",
    "        I = Image.open(directory+'/'+ files[name]).convert('RGB')\n",
    "        width1, height1 = I.size\n",
    "        if (width1//img_rows > 1) and (height1//img_cols > 1):\n",
    "            for i in range(width1//img_rows):\n",
    "                for j in range(height1//img_cols):\n",
    "                    im = I.crop((i*img_rows, j*img_cols, (i+1)*img_rows, (j+1)*img_cols))\n",
    "                    width, height = im.size\n",
    "                    for k in range(4):\n",
    "                        im_ = im.rotate(90*k)\n",
    "                        a = np.asarray(im_).astype('float32')\n",
    "                        im1 = im_.resize((int(width/2), int(height/2)))\n",
    "                        im1 = im1.resize((width, height), Image.BICUBIC)\n",
    "                        a1 = np.asarray(im1).astype('float32')\n",
    "                        a = a.reshape(img_rows, img_cols, channels)\n",
    "                        a1 = a1.reshape(img_rows, img_cols, channels)\n",
    "                        flag = True\n",
    "                        while flag:\n",
    "                            e = random.randint(0, len(num1)-1)\n",
    "                            if num1[e] != 1:\n",
    "                                flag = False\n",
    "                        num1[e] = 1\n",
    "                        x[e] = a1\n",
    "                        y[e] = a\n",
    "        elif width1//img_rows > 1:\n",
    "            for i in range(width1//img_rows):\n",
    "                im = I.crop((i*img_rows, 0, (i+1)*img_rows, img_cols))\n",
    "                width, height = im.size\n",
    "                for k in range(4):\n",
    "                    im_ = im.rotate(90*k)\n",
    "                    a = np.asarray(im_).astype('float32')\n",
    "                    im1 = im_.resize((int(width/2), int(height/2)))\n",
    "                    im1 = im1.resize((width, height), Image.BICUBIC)\n",
    "                    a1 = np.asarray(im1).astype('float32')\n",
    "                    a = a.reshape(img_rows, img_cols, channels)\n",
    "                    a1 = a1.reshape(img_rows, img_cols, channels)\n",
    "                    flag = True\n",
    "                    while flag:\n",
    "                        e = random.randint(0, len(num1)-1)\n",
    "                        if num1[e] != 1:\n",
    "                            flag = False\n",
    "                    num1[e] = 1\n",
    "                    x[num] = a1\n",
    "                    y[num] = a\n",
    "                    num += 1\n",
    "        elif height1//img_cols > 1:\n",
    "            for j in range(height1//img_cols):\n",
    "                im = I.crop((0, j*img_cols, img_rows, (j+1)*img_cols))\n",
    "                width, height = im.size\n",
    "                for k in range(4):\n",
    "                    im_ = im.rotate(90*k)\n",
    "                    a = np.asarray(im_).astype('float32')\n",
    "                    im1 = im_.resize((int(width/2), int(height/2)))\n",
    "                    im1 = im1.resize((width, height), Image.BICUBIC)\n",
    "                    a1 = np.asarray(im1).astype('float32')\n",
    "                    a = a.reshape(img_rows, img_cols, channels)\n",
    "                    a1 = a1.reshape(img_rows, img_cols, channels)\n",
    "                    flag = True\n",
    "                    while flag:\n",
    "                        e = random.randint(0, len(num1)-1)\n",
    "                        if num1[e] != 1:\n",
    "                            flag = False\n",
    "                    num1[e] = 1\n",
    "                    x[num] = a1\n",
    "                    y[num] = a\n",
    "                    num += 1\n",
    "        else:\n",
    "            im = I.crop((0,0,img_rows, img_cols))\n",
    "            width, height = im.size\n",
    "            for k in range(4):\n",
    "                im_ = im.rotate(90*k)\n",
    "                a = np.asarray(im_).astype('float32')\n",
    "                im1 = im_.resize((int(width/2), int(height/2)))\n",
    "                im1 = im1.resize((width, height), Image.BICUBIC)\n",
    "                a1 = np.asarray(im1).astype('float32')\n",
    "                a = a.reshape(img_rows, img_cols, channels)\n",
    "                a1 = a1.reshape(img_rows, img_cols, channels)\n",
    "                flag = True\n",
    "                while flag:\n",
    "                    e = random.randint(0, len(num1)-1)\n",
    "                    if num1[e] != 1:\n",
    "                        flag = False\n",
    "                num1[e] = 1\n",
    "                x[num] = a1\n",
    "                y[num] = a\n",
    "                num += 1\n",
    "    return x, y"
   ]
  },
  {
   "cell_type": "code",
   "execution_count": 5,
   "metadata": {
    "collapsed": true
   },
   "outputs": [],
   "source": [
    "def preprocess(x, y, channels, img_rows, img_cols):\n",
    "    x /= 255\n",
    "    y /= 255\n",
    "    x = x.astype('float32')\n",
    "    y = y.astype('float32')\n",
    "    x = x.reshape(x.shape[0], img_rows, img_cols, channels)\n",
    "    y = y.reshape(y.shape[0], img_rows, img_cols, channels)\n",
    "    return x, y"
   ]
  },
  {
   "cell_type": "code",
   "execution_count": 6,
   "metadata": {
    "collapsed": true
   },
   "outputs": [],
   "source": [
    "def getim(im):\n",
    "    im1 = Image.new('RGB', (im.shape[0],im.shape[1]))\n",
    "    p = im1.load()\n",
    "    for i in range(im.shape[0]):\n",
    "        for j in range(im.shape[1]):\n",
    "            helper = []\n",
    "            for k in range(im.shape[2]):\n",
    "                if int(im[i][j][k]) > 255:\n",
    "                    helper.append(255)\n",
    "                elif int(im[i][j][k]) < 0:\n",
    "                    helper.append(0)\n",
    "                else:\n",
    "                    helper.append(int(im[i][j][k]))\n",
    "            p[i,j] = tuple(helper)\n",
    "    return im1"
   ]
  },
  {
   "cell_type": "code",
   "execution_count": 7,
   "metadata": {
    "collapsed": true
   },
   "outputs": [],
   "source": [
    "def channels2data(im):\n",
    "    answer = np.zeros((im.shape[2], im.shape[0], im.shape[1]))\n",
    "    for i in range(im.shape[0]):\n",
    "        for j in range(im.shape[1]):\n",
    "            for k in range(im.shape[2]):\n",
    "                answer[k,i,j] = im[i,j,k]\n",
    "    return answer"
   ]
  },
  {
   "cell_type": "code",
   "execution_count": 8,
   "metadata": {
    "collapsed": true
   },
   "outputs": [],
   "source": [
    "def data2channels(ar):\n",
    "    answer = np.zeros((ar.shape[1], ar.shape[2], ar.shape[0]))\n",
    "    for i in range(ar.shape[0]):\n",
    "        for j in range(ar.shape[1]):\n",
    "            for k in range(ar.shape[2]):\n",
    "                answer[j,k,i] = ar[i,j,k]\n",
    "    return answer"
   ]
  },
  {
   "cell_type": "code",
   "execution_count": 9,
   "metadata": {
    "collapsed": true
   },
   "outputs": [],
   "source": [
    "def results(x, y, p, img_rows, img_cols, f):\n",
    "    PSNR_bicubic = 0\n",
    "    PSNR_laplasian = 0\n",
    "    PSNR_model = 0\n",
    "    for i in range(len(x)):\n",
    "        im1 = x[i]*255\n",
    "        im2 = y[i]*255\n",
    "        im3 = p[i]*255\n",
    "        kernel = np.ones((3,3))*(-1)\n",
    "        kernel[1,1] = 8\n",
    "        new_im = channels2data(im1)\n",
    "        h_im = np.zeros((im1.shape[2], im1.shape[0], im1.shape[1]))\n",
    "        for l in range(im1.shape[2]):\n",
    "            h = new_im[l]\n",
    "            h = h.reshape(im1.shape[0], im1.shape[1])\n",
    "            lap = scipy.ndimage.filters.convolve(h, kernel)\n",
    "            laps = lap*100.0/np.amax(lap)\n",
    "            h_im[l] = (h + laps/10)\n",
    "        im4 = data2channels(h_im)\n",
    "        answer1 = getim(im1)\n",
    "        answer1.save('model 2-3 color/original/'+f+'/image '+str(i)+' bicubic.png','png')\n",
    "        answer2 = getim(im2)\n",
    "        answer2.save('model 2-3 color/original/'+f+'/image '+str(i)+' original.png','png')\n",
    "        answer3 = getim(im3)\n",
    "        answer3.save('model 2-3 color/original/'+f+'/image '+str(i)+' worked.png','png')\n",
    "        answer4 = getim(im4)\n",
    "        answer4.save('model 2-3 color/original/'+f+'/image '+str(i)+' with laplasian.png','png')\n",
    "        PSNR_bicubic += 10.0 * np.log(255*255 / (np.mean(np.square(im1 - im2)))) / np.log(10.0)\n",
    "        PSNR_laplasian += 10.0 * np.log(255*255 / (np.mean(np.square(im4 - im2)))) / np.log(10.0)\n",
    "        PSNR_model += 10.0 * np.log(255*255 / (np.mean(np.square(im3 - im2)))) / np.log(10.0)    \n",
    "    print('Bicubic PSNR:', PSNR_bicubic/len(x))\n",
    "    print('Laplasian PSNR:', PSNR_laplasian/len(x))\n",
    "    print('Model PSNR:', PSNR_model/len(x))"
   ]
  },
  {
   "cell_type": "code",
   "execution_count": 10,
   "metadata": {
    "collapsed": true
   },
   "outputs": [],
   "source": [
    "def ressim(x, y, p, img_rows, img_cols):\n",
    "    SSIM_bicubic = 0\n",
    "    SSIM_laplasian = 0\n",
    "    SSIM_model = 0\n",
    "    for i in range(len(x)):\n",
    "        im1 = x[i]*255\n",
    "        kernel = np.ones((3,3))*(-1)\n",
    "        kernel[1,1] = 8\n",
    "        new_im = channels2data(im1)\n",
    "        h_im = np.zeros((im1.shape[2], im1.shape[0], im1.shape[1]))\n",
    "        for l in range(im1.shape[2]):\n",
    "            h = new_im[l]\n",
    "            h = h.reshape(im1.shape[0], im1.shape[1])\n",
    "            lap = scipy.ndimage.filters.convolve(h, kernel)\n",
    "            laps = lap*100.0/np.amax(lap)\n",
    "            h_im[l] = (h + laps/10)\n",
    "        im4 = data2channels(h_im).astype('float32')\n",
    "        im2 = y[i]*255\n",
    "        im3 = p[i]*255\n",
    "        SSIM_bicubic += ssim(im1, im2, data_range=im1.max() - im2.min(), multichannel=True)\n",
    "        SSIM_laplasian += ssim(im4, im2, data_range=im4.max() - im2.min(), multichannel=True)\n",
    "        SSIM_model += ssim(im3, im2, data_range=im3.max() - im2.min(), multichannel=True)\n",
    "    print('Bicubic SSIM:', SSIM_bicubic/len(x))\n",
    "    print('Laplasian SSIM:', SSIM_laplasian/len(x))\n",
    "    print('Model SSIM:', SSIM_model/len(x))"
   ]
  },
  {
   "cell_type": "code",
   "execution_count": 11,
   "metadata": {
    "collapsed": true
   },
   "outputs": [],
   "source": [
    "img_rows, img_cols = 100, 100\n",
    "mode = 'RGB'\n",
    "channels = 3"
   ]
  },
  {
   "cell_type": "code",
   "execution_count": 12,
   "metadata": {
    "collapsed": true
   },
   "outputs": [],
   "source": [
    "batch_size = 15\n",
    "nb_epoch = 500\n",
    "n1 = 10\n",
    "f1 = 15\n",
    "n2 = 3\n",
    "f2 = 1"
   ]
  },
  {
   "cell_type": "code",
   "execution_count": 13,
   "metadata": {
    "collapsed": true
   },
   "outputs": [],
   "source": [
    "X_train, Y_train = imload('Train/Train_first', mode, channels, img_rows, img_cols)\n",
    "X_test, Y_test = imload('Test/Test_first', mode, channels, img_rows, img_cols)\n",
    "X_test5, Y_test5 = imload('Test/Set5', mode, channels, img_rows, img_cols)\n",
    "X_test14, Y_test14 = imload('Test/Set14', mode, channels, img_rows, img_cols)\n",
    "X_valid, Y_valid = imload('Validation/Validation_first', mode, channels, img_rows, img_cols)"
   ]
  },
  {
   "cell_type": "code",
   "execution_count": 14,
   "metadata": {
    "collapsed": true
   },
   "outputs": [],
   "source": [
    "in_train, out_train = preprocess(X_train, Y_train, channels, img_rows, img_cols)\n",
    "in_test, out_test = preprocess(X_test, Y_test, channels, img_rows, img_cols)\n",
    "in_test5, out_test5 = preprocess(X_test5, Y_test5, channels, img_rows, img_cols)\n",
    "in_test14, out_test14 = preprocess(X_test14, Y_test14, channels, img_rows, img_cols)\n",
    "in_valid, out_valid = preprocess(X_valid, Y_valid, channels, img_rows, img_cols)"
   ]
  },
  {
   "cell_type": "code",
   "execution_count": 15,
   "metadata": {
    "collapsed": true
   },
   "outputs": [],
   "source": [
    "input_shape = (img_rows, img_cols, channels)\n",
    "model = Sequential()\n",
    "model.add(Conv2D(n1, (f1, f1), input_shape=input_shape, activation='relu', name='filters', padding=\"same\")) #активацию убать\n",
    "model.add(Conv2D(n2, (f2, f2), padding=\"same\", name='output'))\n",
    "model.compile(loss=\"mse\", optimizer=\"adam\", metrics=[PSNR])"
   ]
  },
  {
   "cell_type": "code",
   "execution_count": 16,
   "metadata": {},
   "outputs": [
    {
     "data": {
      "image/svg+xml": [
       "<svg height=\"232pt\" viewBox=\"0.00 0.00 343.33 231.80\" width=\"343pt\" xmlns=\"http://www.w3.org/2000/svg\" xmlns:xlink=\"http://www.w3.org/1999/xlink\">\n",
       "<g class=\"graph\" id=\"graph0\" transform=\"scale(1 1) rotate(0) translate(4 227.8)\">\n",
       "<title>G</title>\n",
       "<polygon fill=\"#ffffff\" points=\"-4,4 -4,-227.8 339.3318,-227.8 339.3318,4 -4,4\" stroke=\"transparent\"/>\n",
       "<!-- 120872402112 -->\n",
       "<g class=\"node\" id=\"node1\">\n",
       "<title>120872402112</title>\n",
       "<polygon fill=\"none\" points=\"0,-173.7 0,-223.3 335.3318,-223.3 335.3318,-173.7 0,-173.7\" stroke=\"#000000\"/>\n",
       "<text fill=\"#000000\" font-family=\"Times,serif\" font-size=\"14.00\" text-anchor=\"middle\" x=\"77.0088\" y=\"-194.3\">filters_input: InputLayer</text>\n",
       "<polyline fill=\"none\" points=\"154.0176,-173.7 154.0176,-223.3 \" stroke=\"#000000\"/>\n",
       "<text fill=\"#000000\" font-family=\"Times,serif\" font-size=\"14.00\" text-anchor=\"middle\" x=\"181.8535\" y=\"-206.7\">input:</text>\n",
       "<polyline fill=\"none\" points=\"154.0176,-198.5 209.6894,-198.5 \" stroke=\"#000000\"/>\n",
       "<text fill=\"#000000\" font-family=\"Times,serif\" font-size=\"14.00\" text-anchor=\"middle\" x=\"181.8535\" y=\"-181.9\">output:</text>\n",
       "<polyline fill=\"none\" points=\"209.6894,-173.7 209.6894,-223.3 \" stroke=\"#000000\"/>\n",
       "<text fill=\"#000000\" font-family=\"Times,serif\" font-size=\"14.00\" text-anchor=\"middle\" x=\"272.5106\" y=\"-206.7\">(None, 100, 100, 3)</text>\n",
       "<polyline fill=\"none\" points=\"209.6894,-198.5 335.3318,-198.5 \" stroke=\"#000000\"/>\n",
       "<text fill=\"#000000\" font-family=\"Times,serif\" font-size=\"14.00\" text-anchor=\"middle\" x=\"272.5106\" y=\"-181.9\">(None, 100, 100, 3)</text>\n",
       "</g>\n",
       "<!-- 120872401664 -->\n",
       "<g class=\"node\" id=\"node2\">\n",
       "<title>120872401664</title>\n",
       "<polygon fill=\"none\" points=\"21.7658,-87.1 21.7658,-136.7 313.566,-136.7 313.566,-87.1 21.7658,-87.1\" stroke=\"#000000\"/>\n",
       "<text fill=\"#000000\" font-family=\"Times,serif\" font-size=\"14.00\" text-anchor=\"middle\" x=\"73.5088\" y=\"-107.7\">filters: Conv2D</text>\n",
       "<polyline fill=\"none\" points=\"125.2518,-87.1 125.2518,-136.7 \" stroke=\"#000000\"/>\n",
       "<text fill=\"#000000\" font-family=\"Times,serif\" font-size=\"14.00\" text-anchor=\"middle\" x=\"153.0877\" y=\"-120.1\">input:</text>\n",
       "<polyline fill=\"none\" points=\"125.2518,-111.9 180.9236,-111.9 \" stroke=\"#000000\"/>\n",
       "<text fill=\"#000000\" font-family=\"Times,serif\" font-size=\"14.00\" text-anchor=\"middle\" x=\"153.0877\" y=\"-95.3\">output:</text>\n",
       "<polyline fill=\"none\" points=\"180.9236,-87.1 180.9236,-136.7 \" stroke=\"#000000\"/>\n",
       "<text fill=\"#000000\" font-family=\"Times,serif\" font-size=\"14.00\" text-anchor=\"middle\" x=\"247.2448\" y=\"-120.1\">(None, 100, 100, 3)</text>\n",
       "<polyline fill=\"none\" points=\"180.9236,-111.9 313.566,-111.9 \" stroke=\"#000000\"/>\n",
       "<text fill=\"#000000\" font-family=\"Times,serif\" font-size=\"14.00\" text-anchor=\"middle\" x=\"247.2448\" y=\"-95.3\">(None, 100, 100, 10)</text>\n",
       "</g>\n",
       "<!-- 120872402112&#45;&gt;120872401664 -->\n",
       "<g class=\"edge\" id=\"edge1\">\n",
       "<title>120872402112-&gt;120872401664</title>\n",
       "<path d=\"M167.6659,-173.4517C167.6659,-165.1937 167.6659,-155.8517 167.6659,-146.9864\" fill=\"none\" stroke=\"#000000\"/>\n",
       "<polygon fill=\"#000000\" points=\"171.166,-146.892 167.6659,-136.892 164.166,-146.892 171.166,-146.892\" stroke=\"#000000\"/>\n",
       "</g>\n",
       "<!-- 120872401776 -->\n",
       "<g class=\"node\" id=\"node3\">\n",
       "<title>120872401776</title>\n",
       "<polygon fill=\"none\" points=\"20.2013,-.5 20.2013,-50.1 315.1305,-50.1 315.1305,-.5 20.2013,-.5\" stroke=\"#000000\"/>\n",
       "<text fill=\"#000000\" font-family=\"Times,serif\" font-size=\"14.00\" text-anchor=\"middle\" x=\"73.5088\" y=\"-21.1\">output: Conv2D</text>\n",
       "<polyline fill=\"none\" points=\"126.8163,-.5 126.8163,-50.1 \" stroke=\"#000000\"/>\n",
       "<text fill=\"#000000\" font-family=\"Times,serif\" font-size=\"14.00\" text-anchor=\"middle\" x=\"154.6522\" y=\"-33.5\">input:</text>\n",
       "<polyline fill=\"none\" points=\"126.8163,-25.3 182.4881,-25.3 \" stroke=\"#000000\"/>\n",
       "<text fill=\"#000000\" font-family=\"Times,serif\" font-size=\"14.00\" text-anchor=\"middle\" x=\"154.6522\" y=\"-8.7\">output:</text>\n",
       "<polyline fill=\"none\" points=\"182.4881,-.5 182.4881,-50.1 \" stroke=\"#000000\"/>\n",
       "<text fill=\"#000000\" font-family=\"Times,serif\" font-size=\"14.00\" text-anchor=\"middle\" x=\"248.8093\" y=\"-33.5\">(None, 100, 100, 10)</text>\n",
       "<polyline fill=\"none\" points=\"182.4881,-25.3 315.1305,-25.3 \" stroke=\"#000000\"/>\n",
       "<text fill=\"#000000\" font-family=\"Times,serif\" font-size=\"14.00\" text-anchor=\"middle\" x=\"248.8093\" y=\"-8.7\">(None, 100, 100, 3)</text>\n",
       "</g>\n",
       "<!-- 120872401664&#45;&gt;120872401776 -->\n",
       "<g class=\"edge\" id=\"edge2\">\n",
       "<title>120872401664-&gt;120872401776</title>\n",
       "<path d=\"M167.6659,-86.8517C167.6659,-78.5937 167.6659,-69.2517 167.6659,-60.3864\" fill=\"none\" stroke=\"#000000\"/>\n",
       "<polygon fill=\"#000000\" points=\"171.166,-60.292 167.6659,-50.292 164.166,-60.292 171.166,-60.292\" stroke=\"#000000\"/>\n",
       "</g>\n",
       "</g>\n",
       "</svg>"
      ],
      "text/plain": [
       "<IPython.core.display.SVG object>"
      ]
     },
     "execution_count": 16,
     "metadata": {},
     "output_type": "execute_result"
    }
   ],
   "source": [
    "SVG(model_to_dot(model, show_shapes=True).create(prog='dot', format='svg'))"
   ]
  },
  {
   "cell_type": "code",
   "execution_count": 17,
   "metadata": {},
   "outputs": [
    {
     "name": "stdout",
     "output_type": "stream",
     "text": [
      "Train on 1224 samples, validate on 176 samples\n",
      "Epoch 1/500\n",
      "1224/1224 [==============================] - 152s 124ms/step - loss: 0.0328 - PSNR: 16.0130 - val_loss: 0.0174 - val_PSNR: 18.1328\n",
      "Epoch 2/500\n",
      "1224/1224 [==============================] - 134s 109ms/step - loss: 0.0135 - PSNR: 18.8899 - val_loss: 0.0139 - val_PSNR: 19.1024\n",
      "Epoch 3/500\n",
      "1224/1224 [==============================] - 140s 115ms/step - loss: 0.0114 - PSNR: 19.5944 - val_loss: 0.0123 - val_PSNR: 19.6313\n",
      "Epoch 4/500\n",
      "1224/1224 [==============================] - 143s 117ms/step - loss: 0.0101 - PSNR: 20.1132 - val_loss: 0.0105 - val_PSNR: 20.4420\n",
      "Epoch 5/500\n",
      "1224/1224 [==============================] - 153s 125ms/step - loss: 0.0090 - PSNR: 20.5995 - val_loss: 0.0096 - val_PSNR: 20.8483\n",
      "Epoch 6/500\n",
      "1224/1224 [==============================] - 149s 122ms/step - loss: 0.0083 - PSNR: 20.9910 - val_loss: 0.0088 - val_PSNR: 21.2645\n",
      "Epoch 7/500\n",
      "1224/1224 [==============================] - 142s 116ms/step - loss: 0.0078 - PSNR: 21.3333 - val_loss: 0.0083 - val_PSNR: 21.5657\n",
      "Epoch 8/500\n",
      "1224/1224 [==============================] - 160s 131ms/step - loss: 0.0074 - PSNR: 21.4943 - val_loss: 0.0079 - val_PSNR: 21.8024\n",
      "Epoch 9/500\n",
      "1224/1224 [==============================] - 127s 104ms/step - loss: 0.0071 - PSNR: 21.7363 - val_loss: 0.0077 - val_PSNR: 21.8553\n",
      "Epoch 10/500\n",
      "1224/1224 [==============================] - 137s 112ms/step - loss: 0.0068 - PSNR: 21.8706 - val_loss: 0.0075 - val_PSNR: 21.9966\n",
      "Epoch 11/500\n",
      "1224/1224 [==============================] - 151s 123ms/step - loss: 0.0066 - PSNR: 21.9917 - val_loss: 0.0071 - val_PSNR: 22.2491\n",
      "Epoch 12/500\n",
      "1224/1224 [==============================] - 148s 121ms/step - loss: 0.0065 - PSNR: 22.0404 - val_loss: 0.0070 - val_PSNR: 22.3009\n",
      "Epoch 13/500\n",
      "1224/1224 [==============================] - 184s 151ms/step - loss: 0.0068 - PSNR: 21.8333 - val_loss: 0.0071 - val_PSNR: 22.0972\n",
      "Epoch 14/500\n",
      "1224/1224 [==============================] - 183s 150ms/step - loss: 0.0046 - PSNR: 23.5978 - val_loss: 0.0038 - val_PSNR: 24.8858\n",
      "Epoch 15/500\n",
      "1224/1224 [==============================] - 150s 123ms/step - loss: 0.0032 - PSNR: 25.1092 - val_loss: 0.0034 - val_PSNR: 25.4016\n",
      "Epoch 16/500\n",
      "1224/1224 [==============================] - 130s 106ms/step - loss: 0.0026 - PSNR: 25.9299 - val_loss: 0.0030 - val_PSNR: 25.8447\n",
      "Epoch 17/500\n",
      "1224/1224 [==============================] - 138s 113ms/step - loss: 0.0024 - PSNR: 26.3415 - val_loss: 0.0028 - val_PSNR: 26.1948\n",
      "Epoch 18/500\n",
      "1224/1224 [==============================] - 141s 115ms/step - loss: 0.0024 - PSNR: 26.4280 - val_loss: 0.0026 - val_PSNR: 26.3639\n",
      "Epoch 19/500\n",
      "1224/1224 [==============================] - 163s 133ms/step - loss: 0.0021 - PSNR: 27.0025 - val_loss: 0.0024 - val_PSNR: 26.8269\n",
      "Epoch 20/500\n",
      "1224/1224 [==============================] - 137s 112ms/step - loss: 0.0020 - PSNR: 27.1683 - val_loss: 0.0023 - val_PSNR: 26.9833\n",
      "Epoch 21/500\n",
      "1224/1224 [==============================] - 167s 136ms/step - loss: 0.0019 - PSNR: 27.3719 - val_loss: 0.0022 - val_PSNR: 27.0619\n",
      "Epoch 22/500\n",
      "1224/1224 [==============================] - 168s 137ms/step - loss: 0.0019 - PSNR: 27.5199 - val_loss: 0.0021 - val_PSNR: 27.2315\n",
      "Epoch 23/500\n",
      "1224/1224 [==============================] - 149s 122ms/step - loss: 0.0019 - PSNR: 27.5230 - val_loss: 0.0021 - val_PSNR: 27.1514\n",
      "Epoch 24/500\n",
      "1224/1224 [==============================] - 148s 121ms/step - loss: 0.0021 - PSNR: 27.1483 - val_loss: 0.0027 - val_PSNR: 25.9571\n",
      "Epoch 25/500\n",
      "1224/1224 [==============================] - 148s 121ms/step - loss: 0.0026 - PSNR: 26.1766 - val_loss: 0.0020 - val_PSNR: 27.4111\n",
      "Epoch 26/500\n",
      "1224/1224 [==============================] - 148s 121ms/step - loss: 0.0018 - PSNR: 27.8355 - val_loss: 0.0020 - val_PSNR: 27.4738\n",
      "Epoch 27/500\n",
      "1224/1224 [==============================] - 150s 123ms/step - loss: 0.0017 - PSNR: 27.9800 - val_loss: 0.0019 - val_PSNR: 27.5576\n",
      "Epoch 28/500\n",
      "1224/1224 [==============================] - 150s 123ms/step - loss: 0.0017 - PSNR: 27.9276 - val_loss: 0.0019 - val_PSNR: 27.6156\n",
      "Epoch 29/500\n",
      "1224/1224 [==============================] - 150s 123ms/step - loss: 0.0017 - PSNR: 28.0238 - val_loss: 0.0019 - val_PSNR: 27.5848\n",
      "Epoch 30/500\n",
      "1224/1224 [==============================] - 138s 113ms/step - loss: 0.0017 - PSNR: 28.1012 - val_loss: 0.0019 - val_PSNR: 27.6946\n",
      "Epoch 31/500\n",
      "1224/1224 [==============================] - 119s 97ms/step - loss: 0.0017 - PSNR: 27.9826 - val_loss: 0.0021 - val_PSNR: 27.0762\n",
      "Epoch 32/500\n",
      "1224/1224 [==============================] - 119s 97ms/step - loss: 0.0016 - PSNR: 28.1184 - val_loss: 0.0018 - val_PSNR: 27.7687\n",
      "Epoch 33/500\n",
      "1224/1224 [==============================] - 120s 98ms/step - loss: 0.0016 - PSNR: 28.0391 - val_loss: 0.0020 - val_PSNR: 27.2981\n",
      "Epoch 34/500\n",
      "1224/1224 [==============================] - 116s 95ms/step - loss: 0.0017 - PSNR: 28.1719 - val_loss: 0.0035 - val_PSNR: 24.6853\n",
      "Epoch 35/500\n",
      "1224/1224 [==============================] - 91s 74ms/step - loss: 0.0019 - PSNR: 27.5983 - val_loss: 0.0018 - val_PSNR: 27.9346\n",
      "Epoch 36/500\n",
      "1224/1224 [==============================] - 88s 72ms/step - loss: 0.0016 - PSNR: 28.3648 - val_loss: 0.0018 - val_PSNR: 27.9508\n",
      "Epoch 37/500\n",
      "1224/1224 [==============================] - 88s 72ms/step - loss: 0.0015 - PSNR: 28.4178 - val_loss: 0.0017 - val_PSNR: 28.0168\n",
      "Epoch 38/500\n",
      "1224/1224 [==============================] - 88s 72ms/step - loss: 0.0015 - PSNR: 28.4437 - val_loss: 0.0017 - val_PSNR: 28.0785\n",
      "Epoch 39/500\n",
      "1224/1224 [==============================] - 87s 71ms/step - loss: 0.0015 - PSNR: 28.4601 - val_loss: 0.0017 - val_PSNR: 28.1137\n",
      "Epoch 40/500\n",
      "1224/1224 [==============================] - 87s 71ms/step - loss: 0.0015 - PSNR: 28.4849 - val_loss: 0.0017 - val_PSNR: 28.1459\n",
      "Epoch 41/500\n",
      "1224/1224 [==============================] - 88s 72ms/step - loss: 0.0015 - PSNR: 28.5131 - val_loss: 0.0017 - val_PSNR: 28.1425\n",
      "Epoch 42/500\n",
      "1224/1224 [==============================] - 88s 72ms/step - loss: 0.0022 - PSNR: 27.1068 - val_loss: 0.0018 - val_PSNR: 27.9193\n",
      "Epoch 43/500\n",
      "1224/1224 [==============================] - 88s 72ms/step - loss: 0.0015 - PSNR: 28.4833 - val_loss: 0.0017 - val_PSNR: 28.2171\n",
      "Epoch 44/500\n",
      "1224/1224 [==============================] - 88s 72ms/step - loss: 0.0015 - PSNR: 28.6466 - val_loss: 0.0017 - val_PSNR: 28.1906\n",
      "Epoch 45/500\n",
      "1224/1224 [==============================] - 87s 71ms/step - loss: 0.0014 - PSNR: 28.6981 - val_loss: 0.0016 - val_PSNR: 28.3467\n",
      "Epoch 46/500\n",
      "1224/1224 [==============================] - 87s 71ms/step - loss: 0.0014 - PSNR: 28.7771 - val_loss: 0.0016 - val_PSNR: 28.3930\n",
      "Epoch 47/500\n",
      "1224/1224 [==============================] - 88s 72ms/step - loss: 0.0014 - PSNR: 28.7122 - val_loss: 0.0016 - val_PSNR: 28.4265\n",
      "Epoch 48/500\n",
      "1224/1224 [==============================] - 87s 71ms/step - loss: 0.0014 - PSNR: 28.8920 - val_loss: 0.0016 - val_PSNR: 28.4517\n",
      "Epoch 49/500\n",
      "1224/1224 [==============================] - 87s 71ms/step - loss: 0.0029 - PSNR: 26.1971 - val_loss: 0.0023 - val_PSNR: 26.6710\n",
      "Epoch 50/500\n",
      "1224/1224 [==============================] - 87s 71ms/step - loss: 0.0016 - PSNR: 28.2352 - val_loss: 0.0016 - val_PSNR: 28.3725\n",
      "Epoch 51/500\n",
      "1224/1224 [==============================] - 88s 72ms/step - loss: 0.0014 - PSNR: 28.7795 - val_loss: 0.0015 - val_PSNR: 28.4963\n",
      "Epoch 52/500\n",
      "1224/1224 [==============================] - 88s 72ms/step - loss: 0.0014 - PSNR: 28.8842 - val_loss: 0.0015 - val_PSNR: 28.5238\n",
      "Epoch 53/500\n",
      "1224/1224 [==============================] - 88s 72ms/step - loss: 0.0014 - PSNR: 28.8225 - val_loss: 0.0015 - val_PSNR: 28.5394\n",
      "Epoch 54/500\n",
      "1224/1224 [==============================] - 88s 72ms/step - loss: 0.0014 - PSNR: 28.8799 - val_loss: 0.0015 - val_PSNR: 28.5547\n",
      "Epoch 55/500\n",
      "1224/1224 [==============================] - 88s 72ms/step - loss: 0.0014 - PSNR: 28.8663 - val_loss: 0.0015 - val_PSNR: 28.5797\n",
      "Epoch 56/500\n",
      "1224/1224 [==============================] - 88s 72ms/step - loss: 0.0014 - PSNR: 28.9013 - val_loss: 0.0015 - val_PSNR: 28.5052\n",
      "Epoch 57/500\n",
      "1224/1224 [==============================] - 87s 71ms/step - loss: 0.0014 - PSNR: 28.9248 - val_loss: 0.0015 - val_PSNR: 28.6057\n"
     ]
    },
    {
     "name": "stdout",
     "output_type": "stream",
     "text": [
      "Epoch 58/500\n",
      "1224/1224 [==============================] - 106s 87ms/step - loss: 0.0014 - PSNR: 28.9966 - val_loss: 0.0015 - val_PSNR: 28.6135\n",
      "Epoch 59/500\n",
      "1224/1224 [==============================] - 109s 89ms/step - loss: 0.0014 - PSNR: 29.0654 - val_loss: 0.0015 - val_PSNR: 28.6345\n",
      "Epoch 60/500\n",
      "1224/1224 [==============================] - 107s 87ms/step - loss: 0.0014 - PSNR: 28.8159 - val_loss: 0.0019 - val_PSNR: 27.4795\n",
      "Epoch 61/500\n",
      "1224/1224 [==============================] - 89s 73ms/step - loss: 0.0017 - PSNR: 28.0337 - val_loss: 0.0016 - val_PSNR: 28.2941\n",
      "Epoch 62/500\n",
      "1224/1224 [==============================] - 88s 72ms/step - loss: 0.0023 - PSNR: 27.2491 - val_loss: 0.0123 - val_PSNR: 19.2132\n",
      "Epoch 63/500\n",
      "1224/1224 [==============================] - 88s 72ms/step - loss: 0.0022 - PSNR: 27.2733 - val_loss: 0.0016 - val_PSNR: 28.3636\n",
      "Epoch 64/500\n",
      "1224/1224 [==============================] - 88s 72ms/step - loss: 0.0014 - PSNR: 29.0210 - val_loss: 0.0015 - val_PSNR: 28.6480\n",
      "Epoch 65/500\n",
      "1224/1224 [==============================] - 104s 85ms/step - loss: 0.0013 - PSNR: 29.0883 - val_loss: 0.0015 - val_PSNR: 28.6615\n",
      "Epoch 66/500\n",
      "1224/1224 [==============================] - 106s 87ms/step - loss: 0.0013 - PSNR: 29.1075 - val_loss: 0.0015 - val_PSNR: 28.6761\n",
      "Epoch 67/500\n",
      "1224/1224 [==============================] - 87s 71ms/step - loss: 0.0013 - PSNR: 29.0994 - val_loss: 0.0015 - val_PSNR: 28.6715\n",
      "Epoch 68/500\n",
      "1224/1224 [==============================] - 88s 72ms/step - loss: 0.0013 - PSNR: 29.0539 - val_loss: 0.0015 - val_PSNR: 28.6950\n",
      "Epoch 69/500\n",
      "1224/1224 [==============================] - 88s 72ms/step - loss: 0.0013 - PSNR: 29.0903 - val_loss: 0.0015 - val_PSNR: 28.7043\n",
      "Epoch 70/500\n",
      "1224/1224 [==============================] - 91s 74ms/step - loss: 0.0013 - PSNR: 29.0641 - val_loss: 0.0015 - val_PSNR: 28.7032\n",
      "Epoch 71/500\n",
      "1224/1224 [==============================] - 89s 72ms/step - loss: 0.0013 - PSNR: 29.0994 - val_loss: 0.0015 - val_PSNR: 28.7108\n",
      "Epoch 72/500\n",
      "1224/1224 [==============================] - 87s 71ms/step - loss: 0.0013 - PSNR: 29.0984 - val_loss: 0.0015 - val_PSNR: 28.7252\n",
      "Epoch 73/500\n",
      "1224/1224 [==============================] - 87s 71ms/step - loss: 0.0013 - PSNR: 29.1862 - val_loss: 0.0015 - val_PSNR: 28.6698\n",
      "Epoch 74/500\n",
      "1224/1224 [==============================] - 87s 71ms/step - loss: 0.0013 - PSNR: 29.1143 - val_loss: 0.0015 - val_PSNR: 28.7330\n",
      "Epoch 75/500\n",
      "1224/1224 [==============================] - 87s 71ms/step - loss: 0.0014 - PSNR: 29.0073 - val_loss: 0.0015 - val_PSNR: 28.7084\n",
      "Epoch 76/500\n",
      "1224/1224 [==============================] - 87s 71ms/step - loss: 0.0013 - PSNR: 29.0885 - val_loss: 0.0015 - val_PSNR: 28.7050\n",
      "Epoch 77/500\n",
      "1224/1224 [==============================] - 87s 71ms/step - loss: 0.0014 - PSNR: 28.7852 - val_loss: 0.0016 - val_PSNR: 28.3851\n",
      "Epoch 78/500\n",
      "1224/1224 [==============================] - 87s 71ms/step - loss: 0.0014 - PSNR: 28.8813 - val_loss: 0.0014 - val_PSNR: 28.7657\n",
      "Epoch 79/500\n",
      "1224/1224 [==============================] - 87s 71ms/step - loss: 0.0013 - PSNR: 29.0949 - val_loss: 0.0015 - val_PSNR: 28.6003\n",
      "Epoch 80/500\n",
      "1224/1224 [==============================] - 87s 71ms/step - loss: 0.0016 - PSNR: 28.1551 - val_loss: 0.0015 - val_PSNR: 28.6677\n",
      "Epoch 81/500\n",
      "1224/1224 [==============================] - 87s 71ms/step - loss: 0.0014 - PSNR: 28.8625 - val_loss: 0.0021 - val_PSNR: 26.9173\n",
      "Epoch 82/500\n",
      "1224/1224 [==============================] - 87s 71ms/step - loss: 0.0020 - PSNR: 27.7260 - val_loss: 0.0018 - val_PSNR: 27.7589\n",
      "Epoch 83/500\n",
      "1224/1224 [==============================] - 88s 72ms/step - loss: 0.0015 - PSNR: 28.6327 - val_loss: 0.0015 - val_PSNR: 28.6972\n",
      "Epoch 84/500\n",
      "1224/1224 [==============================] - 87s 71ms/step - loss: 0.0013 - PSNR: 29.1871 - val_loss: 0.0014 - val_PSNR: 28.7625\n",
      "Epoch 85/500\n",
      "1224/1224 [==============================] - 87s 71ms/step - loss: 0.0013 - PSNR: 29.0946 - val_loss: 0.0015 - val_PSNR: 28.7113\n",
      "Epoch 86/500\n",
      "1224/1224 [==============================] - 87s 71ms/step - loss: 0.0015 - PSNR: 28.6105 - val_loss: 0.0015 - val_PSNR: 28.6109\n",
      "Epoch 87/500\n",
      "1224/1224 [==============================] - 87s 71ms/step - loss: 0.0014 - PSNR: 29.0692 - val_loss: 0.0014 - val_PSNR: 28.7724\n",
      "Epoch 88/500\n",
      "1224/1224 [==============================] - 88s 72ms/step - loss: 0.0013 - PSNR: 29.1058 - val_loss: 0.0015 - val_PSNR: 28.7203\n",
      "Epoch 89/500\n",
      "1224/1224 [==============================] - 86s 71ms/step - loss: 0.0013 - PSNR: 29.1874 - val_loss: 0.0014 - val_PSNR: 28.8015\n",
      "Epoch 90/500\n",
      "1224/1224 [==============================] - 87s 71ms/step - loss: 0.0013 - PSNR: 29.1457 - val_loss: 0.0015 - val_PSNR: 28.5696\n",
      "Epoch 91/500\n",
      "1224/1224 [==============================] - 87s 71ms/step - loss: 0.0013 - PSNR: 29.1543 - val_loss: 0.0015 - val_PSNR: 28.4740\n",
      "Epoch 92/500\n",
      "1224/1224 [==============================] - 87s 71ms/step - loss: 0.0013 - PSNR: 29.1131 - val_loss: 0.0014 - val_PSNR: 28.7773\n",
      "Epoch 93/500\n",
      "1224/1224 [==============================] - 87s 71ms/step - loss: 0.0013 - PSNR: 29.1287 - val_loss: 0.0014 - val_PSNR: 28.7911\n",
      "Epoch 94/500\n",
      "1224/1224 [==============================] - 87s 71ms/step - loss: 0.0015 - PSNR: 28.6505 - val_loss: 0.0015 - val_PSNR: 28.4935\n",
      "Epoch 95/500\n",
      "1224/1224 [==============================] - 87s 71ms/step - loss: 0.0014 - PSNR: 28.9266 - val_loss: 0.0015 - val_PSNR: 28.7115\n",
      "Epoch 96/500\n",
      "1224/1224 [==============================] - 88s 72ms/step - loss: 0.0013 - PSNR: 29.2686 - val_loss: 0.0014 - val_PSNR: 28.8105\n",
      "Epoch 97/500\n",
      "1224/1224 [==============================] - 87s 71ms/step - loss: 0.0015 - PSNR: 28.7014 - val_loss: 0.0014 - val_PSNR: 28.7715\n",
      "Epoch 98/500\n",
      "1224/1224 [==============================] - 87s 71ms/step - loss: 0.0014 - PSNR: 28.7548 - val_loss: 0.0014 - val_PSNR: 28.7780\n",
      "Epoch 99/500\n",
      "1224/1224 [==============================] - 87s 71ms/step - loss: 0.0013 - PSNR: 29.1509 - val_loss: 0.0015 - val_PSNR: 28.6003\n",
      "Epoch 100/500\n",
      "1224/1224 [==============================] - 87s 71ms/step - loss: 0.0016 - PSNR: 28.4428 - val_loss: 0.0018 - val_PSNR: 27.5593\n",
      "Epoch 101/500\n",
      "1224/1224 [==============================] - 88s 72ms/step - loss: 0.0016 - PSNR: 28.3521 - val_loss: 0.0014 - val_PSNR: 28.7568\n",
      "Epoch 102/500\n",
      "1224/1224 [==============================] - 87s 71ms/step - loss: 0.0013 - PSNR: 29.2536 - val_loss: 0.0015 - val_PSNR: 28.6149\n",
      "Epoch 103/500\n",
      "1224/1224 [==============================] - 87s 71ms/step - loss: 0.0016 - PSNR: 28.3989 - val_loss: 0.0014 - val_PSNR: 28.8111\n",
      "Epoch 104/500\n",
      "1224/1224 [==============================] - 87s 71ms/step - loss: 0.0013 - PSNR: 29.2193 - val_loss: 0.0014 - val_PSNR: 28.8322\n",
      "Epoch 105/500\n",
      "1224/1224 [==============================] - 86s 70ms/step - loss: 0.0013 - PSNR: 29.2520 - val_loss: 0.0014 - val_PSNR: 28.8158\n",
      "Epoch 106/500\n",
      "1224/1224 [==============================] - 86s 71ms/step - loss: 0.0013 - PSNR: 29.1817 - val_loss: 0.0014 - val_PSNR: 28.8547\n",
      "Epoch 107/500\n",
      "1224/1224 [==============================] - 79s 64ms/step - loss: 0.0013 - PSNR: 29.2635 - val_loss: 0.0014 - val_PSNR: 28.8606\n",
      "Epoch 108/500\n",
      "1224/1224 [==============================] - 78s 64ms/step - loss: 0.0013 - PSNR: 29.1786 - val_loss: 0.0014 - val_PSNR: 28.8548\n",
      "Epoch 109/500\n",
      "1224/1224 [==============================] - 78s 64ms/step - loss: 0.0013 - PSNR: 29.1251 - val_loss: 0.0015 - val_PSNR: 28.5980\n",
      "Epoch 110/500\n",
      "1224/1224 [==============================] - 78s 64ms/step - loss: 0.0014 - PSNR: 28.9763 - val_loss: 0.0014 - val_PSNR: 28.8415\n",
      "Epoch 111/500\n",
      "1224/1224 [==============================] - 78s 64ms/step - loss: 0.0013 - PSNR: 29.1113 - val_loss: 0.0015 - val_PSNR: 28.7351\n",
      "Epoch 112/500\n",
      "1224/1224 [==============================] - 78s 64ms/step - loss: 0.0013 - PSNR: 29.1710 - val_loss: 0.0014 - val_PSNR: 28.8568\n",
      "Epoch 113/500\n",
      "1224/1224 [==============================] - 78s 64ms/step - loss: 0.0013 - PSNR: 29.1619 - val_loss: 0.0015 - val_PSNR: 28.4686\n",
      "Epoch 114/500\n",
      "1224/1224 [==============================] - 78s 63ms/step - loss: 0.0021 - PSNR: 27.4290 - val_loss: 0.0028 - val_PSNR: 25.6648\n",
      "Epoch 115/500\n"
     ]
    },
    {
     "name": "stdout",
     "output_type": "stream",
     "text": [
      "1224/1224 [==============================] - 78s 64ms/step - loss: 0.0020 - PSNR: 27.2438 - val_loss: 0.0022 - val_PSNR: 26.7187\n",
      "Epoch 116/500\n",
      "1224/1224 [==============================] - 78s 64ms/step - loss: 0.0015 - PSNR: 28.6583 - val_loss: 0.0014 - val_PSNR: 28.7982\n",
      "Epoch 117/500\n",
      "1224/1224 [==============================] - 78s 64ms/step - loss: 0.0013 - PSNR: 29.2743 - val_loss: 0.0014 - val_PSNR: 28.8140\n",
      "Epoch 118/500\n",
      "1224/1224 [==============================] - 78s 64ms/step - loss: 0.0013 - PSNR: 29.2699 - val_loss: 0.0014 - val_PSNR: 28.8246\n",
      "Epoch 119/500\n",
      "1224/1224 [==============================] - 78s 64ms/step - loss: 0.0013 - PSNR: 29.2733 - val_loss: 0.0014 - val_PSNR: 28.8412\n",
      "Epoch 120/500\n",
      "1224/1224 [==============================] - 78s 64ms/step - loss: 0.0013 - PSNR: 29.2790 - val_loss: 0.0014 - val_PSNR: 28.8476\n",
      "Epoch 121/500\n",
      "1224/1224 [==============================] - 78s 64ms/step - loss: 0.0013 - PSNR: 29.2439 - val_loss: 0.0014 - val_PSNR: 28.8107\n",
      "Epoch 122/500\n",
      "1224/1224 [==============================] - 78s 64ms/step - loss: 0.0013 - PSNR: 29.1779 - val_loss: 0.0014 - val_PSNR: 28.8470\n",
      "Epoch 123/500\n",
      "1224/1224 [==============================] - 78s 64ms/step - loss: 0.0013 - PSNR: 29.3002 - val_loss: 0.0014 - val_PSNR: 28.8730\n",
      "Epoch 124/500\n",
      "1224/1224 [==============================] - 78s 64ms/step - loss: 0.0014 - PSNR: 28.9531 - val_loss: 0.0021 - val_PSNR: 26.9949\n",
      "Epoch 125/500\n",
      "1224/1224 [==============================] - 79s 64ms/step - loss: 0.0013 - PSNR: 29.1463 - val_loss: 0.0014 - val_PSNR: 28.7852\n",
      "Epoch 126/500\n",
      "1224/1224 [==============================] - 78s 64ms/step - loss: 0.0013 - PSNR: 29.2505 - val_loss: 0.0014 - val_PSNR: 28.8849\n",
      "Epoch 127/500\n",
      "1224/1224 [==============================] - 78s 64ms/step - loss: 0.0013 - PSNR: 29.0843 - val_loss: 0.0014 - val_PSNR: 28.8613\n",
      "Epoch 128/500\n",
      "1224/1224 [==============================] - 78s 64ms/step - loss: 0.0013 - PSNR: 29.2901 - val_loss: 0.0014 - val_PSNR: 28.8888\n",
      "Epoch 129/500\n",
      "1224/1224 [==============================] - 78s 64ms/step - loss: 0.0013 - PSNR: 29.3122 - val_loss: 0.0014 - val_PSNR: 28.9066\n",
      "Epoch 130/500\n",
      "1224/1224 [==============================] - 78s 64ms/step - loss: 0.0013 - PSNR: 29.2326 - val_loss: 0.0015 - val_PSNR: 28.5421\n",
      "Epoch 131/500\n",
      "1224/1224 [==============================] - 78s 64ms/step - loss: 0.0013 - PSNR: 29.0411 - val_loss: 0.0014 - val_PSNR: 28.8425\n",
      "Epoch 132/500\n",
      "1224/1224 [==============================] - 78s 64ms/step - loss: 0.0013 - PSNR: 29.1290 - val_loss: 0.0014 - val_PSNR: 28.8232\n",
      "Epoch 133/500\n",
      "1224/1224 [==============================] - 78s 64ms/step - loss: 0.0016 - PSNR: 28.4106 - val_loss: 0.0014 - val_PSNR: 28.8732\n",
      "Epoch 134/500\n",
      "1224/1224 [==============================] - 79s 64ms/step - loss: 0.0013 - PSNR: 29.2622 - val_loss: 0.0014 - val_PSNR: 28.9094\n",
      "Epoch 135/500\n",
      "1224/1224 [==============================] - 78s 64ms/step - loss: 0.0013 - PSNR: 29.3704 - val_loss: 0.0014 - val_PSNR: 28.9090\n",
      "Epoch 136/500\n",
      "1224/1224 [==============================] - 78s 64ms/step - loss: 0.0026 - PSNR: 26.5161 - val_loss: 0.0015 - val_PSNR: 28.5117\n",
      "Epoch 137/500\n",
      "1224/1224 [==============================] - 78s 64ms/step - loss: 0.0017 - PSNR: 28.1009 - val_loss: 0.0014 - val_PSNR: 28.8480\n",
      "Epoch 138/500\n",
      "1224/1224 [==============================] - 83s 68ms/step - loss: 0.0013 - PSNR: 29.2069 - val_loss: 0.0014 - val_PSNR: 28.8751\n",
      "Epoch 139/500\n",
      "1224/1224 [==============================] - 78s 64ms/step - loss: 0.0013 - PSNR: 29.3146 - val_loss: 0.0014 - val_PSNR: 28.8937\n",
      "Epoch 140/500\n",
      "1224/1224 [==============================] - 78s 63ms/step - loss: 0.0013 - PSNR: 29.2745 - val_loss: 0.0014 - val_PSNR: 28.9004\n",
      "Epoch 141/500\n",
      "1224/1224 [==============================] - 78s 64ms/step - loss: 0.0013 - PSNR: 29.3194 - val_loss: 0.0014 - val_PSNR: 28.9000\n",
      "Epoch 142/500\n",
      "1224/1224 [==============================] - 78s 64ms/step - loss: 0.0013 - PSNR: 29.2756 - val_loss: 0.0014 - val_PSNR: 28.9082\n",
      "Epoch 143/500\n",
      "1224/1224 [==============================] - 78s 64ms/step - loss: 0.0013 - PSNR: 29.3647 - val_loss: 0.0014 - val_PSNR: 28.9100\n",
      "Epoch 144/500\n",
      "1224/1224 [==============================] - 78s 64ms/step - loss: 0.0013 - PSNR: 29.3398 - val_loss: 0.0014 - val_PSNR: 28.9163\n",
      "Epoch 145/500\n",
      "1224/1224 [==============================] - 78s 64ms/step - loss: 0.0013 - PSNR: 29.3458 - val_loss: 0.0014 - val_PSNR: 28.9160\n",
      "Epoch 146/500\n",
      "1224/1224 [==============================] - 78s 64ms/step - loss: 0.0013 - PSNR: 29.2904 - val_loss: 0.0014 - val_PSNR: 28.9299\n",
      "Epoch 147/500\n",
      "1224/1224 [==============================] - 78s 64ms/step - loss: 0.0013 - PSNR: 29.0023 - val_loss: 0.0018 - val_PSNR: 27.7952\n",
      "Epoch 148/500\n",
      "1224/1224 [==============================] - 78s 64ms/step - loss: 0.0023 - PSNR: 26.8907 - val_loss: 0.0024 - val_PSNR: 26.2808\n",
      "Epoch 149/500\n",
      "1224/1224 [==============================] - 78s 64ms/step - loss: 0.0013 - PSNR: 29.0878 - val_loss: 0.0014 - val_PSNR: 28.8428\n",
      "Epoch 150/500\n",
      "1224/1224 [==============================] - 78s 64ms/step - loss: 0.0013 - PSNR: 29.2770 - val_loss: 0.0014 - val_PSNR: 28.8543\n",
      "Epoch 151/500\n",
      "1224/1224 [==============================] - 78s 64ms/step - loss: 0.0013 - PSNR: 29.3645 - val_loss: 0.0014 - val_PSNR: 28.8640\n",
      "Epoch 152/500\n",
      "1224/1224 [==============================] - 78s 64ms/step - loss: 0.0013 - PSNR: 29.3255 - val_loss: 0.0014 - val_PSNR: 28.8772\n",
      "Epoch 153/500\n",
      "1224/1224 [==============================] - 78s 64ms/step - loss: 0.0013 - PSNR: 29.3674 - val_loss: 0.0014 - val_PSNR: 28.8832\n",
      "Epoch 154/500\n",
      "1224/1224 [==============================] - 78s 64ms/step - loss: 0.0013 - PSNR: 29.2247 - val_loss: 0.0014 - val_PSNR: 28.8910\n",
      "Epoch 155/500\n",
      "1224/1224 [==============================] - 78s 64ms/step - loss: 0.0013 - PSNR: 29.2937 - val_loss: 0.0015 - val_PSNR: 28.6767\n",
      "Epoch 156/500\n",
      "1224/1224 [==============================] - 78s 64ms/step - loss: 0.0013 - PSNR: 29.2291 - val_loss: 0.0014 - val_PSNR: 28.8328\n",
      "Epoch 157/500\n",
      "1224/1224 [==============================] - 78s 64ms/step - loss: 0.0013 - PSNR: 29.2360 - val_loss: 0.0014 - val_PSNR: 28.9023\n",
      "Epoch 158/500\n",
      "1224/1224 [==============================] - 78s 64ms/step - loss: 0.0013 - PSNR: 29.0137 - val_loss: 0.0014 - val_PSNR: 28.7325\n",
      "Epoch 159/500\n",
      "1224/1224 [==============================] - 78s 64ms/step - loss: 0.0013 - PSNR: 29.2113 - val_loss: 0.0014 - val_PSNR: 28.8381\n",
      "Epoch 160/500\n",
      "1224/1224 [==============================] - 78s 64ms/step - loss: 0.0013 - PSNR: 29.0358 - val_loss: 0.0014 - val_PSNR: 28.7546\n",
      "Epoch 161/500\n",
      "1224/1224 [==============================] - 78s 64ms/step - loss: 0.0018 - PSNR: 27.6931 - val_loss: 0.0014 - val_PSNR: 28.8866\n",
      "Epoch 162/500\n",
      "1224/1224 [==============================] - 78s 64ms/step - loss: 0.0013 - PSNR: 29.2995 - val_loss: 0.0014 - val_PSNR: 28.9199\n",
      "Epoch 163/500\n",
      "1224/1224 [==============================] - 78s 64ms/step - loss: 0.0013 - PSNR: 29.3234 - val_loss: 0.0014 - val_PSNR: 28.9209\n",
      "Epoch 164/500\n",
      "1224/1224 [==============================] - 78s 64ms/step - loss: 0.0013 - PSNR: 29.3291 - val_loss: 0.0014 - val_PSNR: 28.9386\n",
      "Epoch 165/500\n",
      "1224/1224 [==============================] - 78s 64ms/step - loss: 0.0013 - PSNR: 29.2426 - val_loss: 0.0014 - val_PSNR: 28.9379\n",
      "Epoch 166/500\n",
      "1224/1224 [==============================] - 78s 64ms/step - loss: 0.0013 - PSNR: 29.4032 - val_loss: 0.0014 - val_PSNR: 28.9166\n",
      "Epoch 167/500\n",
      "1224/1224 [==============================] - 78s 64ms/step - loss: 0.0013 - PSNR: 29.3334 - val_loss: 0.0014 - val_PSNR: 28.8780\n",
      "Epoch 168/500\n",
      "1224/1224 [==============================] - 78s 64ms/step - loss: 0.0013 - PSNR: 29.2468 - val_loss: 0.0015 - val_PSNR: 28.3950\n",
      "Epoch 169/500\n",
      "1224/1224 [==============================] - 78s 64ms/step - loss: 0.0013 - PSNR: 29.0450 - val_loss: 0.0015 - val_PSNR: 28.7193\n",
      "Epoch 170/500\n",
      "1224/1224 [==============================] - 78s 64ms/step - loss: 0.0013 - PSNR: 29.1606 - val_loss: 0.0020 - val_PSNR: 27.2512\n",
      "Epoch 171/500\n",
      "1224/1224 [==============================] - 78s 64ms/step - loss: 0.0014 - PSNR: 28.7463 - val_loss: 0.0015 - val_PSNR: 28.6980\n",
      "Epoch 172/500\n"
     ]
    },
    {
     "name": "stdout",
     "output_type": "stream",
     "text": [
      "1224/1224 [==============================] - 78s 64ms/step - loss: 0.0013 - PSNR: 29.1787 - val_loss: 0.0014 - val_PSNR: 28.9499\n",
      "Epoch 173/500\n",
      "1224/1224 [==============================] - 78s 64ms/step - loss: 0.0013 - PSNR: 29.2985 - val_loss: 0.0014 - val_PSNR: 28.8029\n",
      "Epoch 174/500\n",
      "1224/1224 [==============================] - 78s 64ms/step - loss: 0.0014 - PSNR: 29.0109 - val_loss: 0.0014 - val_PSNR: 28.9491\n",
      "Epoch 175/500\n",
      "1224/1224 [==============================] - 78s 64ms/step - loss: 0.0013 - PSNR: 29.2739 - val_loss: 0.0014 - val_PSNR: 28.9652\n",
      "Epoch 176/500\n",
      "1224/1224 [==============================] - 78s 64ms/step - loss: 0.0013 - PSNR: 29.3165 - val_loss: 0.0014 - val_PSNR: 28.9578\n",
      "Epoch 177/500\n",
      "1224/1224 [==============================] - 78s 64ms/step - loss: 0.0013 - PSNR: 29.2955 - val_loss: 0.0014 - val_PSNR: 28.9628\n",
      "Epoch 178/500\n",
      "1224/1224 [==============================] - 78s 64ms/step - loss: 0.0013 - PSNR: 29.3573 - val_loss: 0.0015 - val_PSNR: 28.7066\n",
      "Epoch 179/500\n",
      "1224/1224 [==============================] - 78s 64ms/step - loss: 0.0020 - PSNR: 27.6241 - val_loss: 0.0016 - val_PSNR: 28.2446\n",
      "Epoch 180/500\n",
      "1224/1224 [==============================] - 78s 64ms/step - loss: 0.0013 - PSNR: 29.3189 - val_loss: 0.0014 - val_PSNR: 28.9657\n",
      "Epoch 181/500\n",
      "1224/1224 [==============================] - 78s 64ms/step - loss: 0.0014 - PSNR: 29.0058 - val_loss: 0.0014 - val_PSNR: 28.7518\n",
      "Epoch 182/500\n",
      "1224/1224 [==============================] - 78s 64ms/step - loss: 0.0014 - PSNR: 28.7635 - val_loss: 0.0015 - val_PSNR: 28.6390\n",
      "Epoch 183/500\n",
      "1224/1224 [==============================] - 79s 64ms/step - loss: 0.0017 - PSNR: 28.0091 - val_loss: 0.0014 - val_PSNR: 28.7772\n",
      "Epoch 184/500\n",
      "1224/1224 [==============================] - 78s 64ms/step - loss: 0.0013 - PSNR: 29.2813 - val_loss: 0.0014 - val_PSNR: 28.9193\n",
      "Epoch 185/500\n",
      "1224/1224 [==============================] - 78s 64ms/step - loss: 0.0013 - PSNR: 29.2647 - val_loss: 0.0014 - val_PSNR: 28.9281\n",
      "Epoch 186/500\n",
      "1224/1224 [==============================] - 77s 63ms/step - loss: 0.0013 - PSNR: 29.3548 - val_loss: 0.0014 - val_PSNR: 28.9157\n",
      "Epoch 187/500\n",
      "1224/1224 [==============================] - 78s 64ms/step - loss: 0.0013 - PSNR: 29.3116 - val_loss: 0.0014 - val_PSNR: 28.9420\n",
      "Epoch 188/500\n",
      "1224/1224 [==============================] - 78s 64ms/step - loss: 0.0013 - PSNR: 29.3470 - val_loss: 0.0014 - val_PSNR: 28.9375\n",
      "Epoch 189/500\n",
      "1224/1224 [==============================] - 78s 64ms/step - loss: 0.0013 - PSNR: 29.3607 - val_loss: 0.0014 - val_PSNR: 28.8939\n",
      "Epoch 190/500\n",
      "1224/1224 [==============================] - 78s 64ms/step - loss: 0.0013 - PSNR: 29.2979 - val_loss: 0.0016 - val_PSNR: 28.3612\n",
      "Epoch 191/500\n",
      "1224/1224 [==============================] - 78s 64ms/step - loss: 0.0014 - PSNR: 28.9222 - val_loss: 0.0014 - val_PSNR: 28.9555\n",
      "Epoch 192/500\n",
      "1224/1224 [==============================] - 78s 64ms/step - loss: 0.0013 - PSNR: 29.3247 - val_loss: 0.0014 - val_PSNR: 28.9135\n",
      "Epoch 193/500\n",
      "1224/1224 [==============================] - 78s 63ms/step - loss: 0.0018 - PSNR: 28.0147 - val_loss: 0.0044 - val_PSNR: 23.7192\n",
      "Epoch 194/500\n",
      "1224/1224 [==============================] - 78s 64ms/step - loss: 0.0017 - PSNR: 28.1603 - val_loss: 0.0016 - val_PSNR: 28.2770\n",
      "Epoch 195/500\n",
      "1224/1224 [==============================] - 78s 64ms/step - loss: 0.0014 - PSNR: 28.9703 - val_loss: 0.0014 - val_PSNR: 28.7367\n",
      "Epoch 196/500\n",
      "1224/1224 [==============================] - 78s 64ms/step - loss: 0.0013 - PSNR: 29.2667 - val_loss: 0.0014 - val_PSNR: 28.9789\n",
      "Epoch 197/500\n",
      "1224/1224 [==============================] - 78s 64ms/step - loss: 0.0013 - PSNR: 29.2676 - val_loss: 0.0014 - val_PSNR: 28.9768\n",
      "Epoch 198/500\n",
      "1224/1224 [==============================] - 78s 64ms/step - loss: 0.0013 - PSNR: 29.4445 - val_loss: 0.0014 - val_PSNR: 28.9073\n",
      "Epoch 199/500\n",
      "1224/1224 [==============================] - 78s 64ms/step - loss: 0.0014 - PSNR: 28.9652 - val_loss: 0.0015 - val_PSNR: 28.6023\n",
      "Epoch 200/500\n",
      "1224/1224 [==============================] - 78s 64ms/step - loss: 0.0013 - PSNR: 29.3059 - val_loss: 0.0014 - val_PSNR: 28.9703\n",
      "Epoch 201/500\n",
      "1224/1224 [==============================] - 78s 64ms/step - loss: 0.0013 - PSNR: 29.3058 - val_loss: 0.0014 - val_PSNR: 28.9818\n",
      "Epoch 202/500\n",
      "1224/1224 [==============================] - 78s 64ms/step - loss: 0.0013 - PSNR: 29.2954 - val_loss: 0.0014 - val_PSNR: 28.9056\n",
      "Epoch 203/500\n",
      "1224/1224 [==============================] - 78s 64ms/step - loss: 0.0013 - PSNR: 29.1693 - val_loss: 0.0014 - val_PSNR: 28.8467\n",
      "Epoch 204/500\n",
      "1224/1224 [==============================] - 78s 64ms/step - loss: 0.0015 - PSNR: 28.4909 - val_loss: 0.0014 - val_PSNR: 28.8041\n",
      "Epoch 205/500\n",
      "1224/1224 [==============================] - 78s 64ms/step - loss: 0.0013 - PSNR: 29.3536 - val_loss: 0.0014 - val_PSNR: 28.9701\n",
      "Epoch 206/500\n",
      "1224/1224 [==============================] - 78s 64ms/step - loss: 0.0013 - PSNR: 29.2985 - val_loss: 0.0014 - val_PSNR: 28.9679\n",
      "Epoch 207/500\n",
      "1224/1224 [==============================] - 78s 64ms/step - loss: 0.0013 - PSNR: 29.4394 - val_loss: 0.0014 - val_PSNR: 28.9778\n",
      "Epoch 208/500\n",
      "1224/1224 [==============================] - 78s 64ms/step - loss: 0.0013 - PSNR: 29.3519 - val_loss: 0.0014 - val_PSNR: 28.9836\n",
      "Epoch 209/500\n",
      "1224/1224 [==============================] - 78s 64ms/step - loss: 0.0013 - PSNR: 29.2676 - val_loss: 0.0014 - val_PSNR: 28.9894\n",
      "Epoch 210/500\n",
      "1224/1224 [==============================] - 78s 64ms/step - loss: 0.0013 - PSNR: 29.3496 - val_loss: 0.0014 - val_PSNR: 28.9562\n",
      "Epoch 211/500\n",
      "1224/1224 [==============================] - 78s 63ms/step - loss: 0.0013 - PSNR: 29.3261 - val_loss: 0.0014 - val_PSNR: 28.9728\n",
      "Epoch 212/500\n",
      "1224/1224 [==============================] - 78s 64ms/step - loss: 0.0013 - PSNR: 29.1542 - val_loss: 0.0021 - val_PSNR: 26.9663\n",
      "Epoch 213/500\n",
      "1224/1224 [==============================] - 78s 64ms/step - loss: 0.0019 - PSNR: 27.8025 - val_loss: 0.0014 - val_PSNR: 28.8794\n",
      "Epoch 214/500\n",
      "1224/1224 [==============================] - 78s 64ms/step - loss: 0.0014 - PSNR: 28.9686 - val_loss: 0.0016 - val_PSNR: 28.2457\n",
      "Epoch 215/500\n",
      "1224/1224 [==============================] - 78s 64ms/step - loss: 0.0013 - PSNR: 29.0932 - val_loss: 0.0014 - val_PSNR: 28.9191\n",
      "Epoch 216/500\n",
      "1224/1224 [==============================] - 78s 64ms/step - loss: 0.0013 - PSNR: 29.3757 - val_loss: 0.0014 - val_PSNR: 28.9966\n",
      "Epoch 217/500\n",
      "1224/1224 [==============================] - 78s 64ms/step - loss: 0.0013 - PSNR: 29.3432 - val_loss: 0.0014 - val_PSNR: 28.9958\n",
      "Epoch 218/500\n",
      "1224/1224 [==============================] - 78s 64ms/step - loss: 0.0013 - PSNR: 29.3234 - val_loss: 0.0014 - val_PSNR: 29.0152\n",
      "Epoch 219/500\n",
      "1224/1224 [==============================] - 78s 64ms/step - loss: 0.0013 - PSNR: 29.1960 - val_loss: 0.0015 - val_PSNR: 28.4913\n",
      "Epoch 220/500\n",
      "1224/1224 [==============================] - 78s 64ms/step - loss: 0.0014 - PSNR: 28.9373 - val_loss: 0.0015 - val_PSNR: 28.6302\n",
      "Epoch 221/500\n",
      "1224/1224 [==============================] - 78s 64ms/step - loss: 0.0013 - PSNR: 29.2985 - val_loss: 0.0014 - val_PSNR: 28.7934\n",
      "Epoch 222/500\n",
      "1224/1224 [==============================] - 78s 64ms/step - loss: 0.0013 - PSNR: 29.2916 - val_loss: 0.0014 - val_PSNR: 29.0165\n",
      "Epoch 223/500\n",
      "1224/1224 [==============================] - 78s 64ms/step - loss: 0.0013 - PSNR: 29.3608 - val_loss: 0.0014 - val_PSNR: 28.9396\n",
      "Epoch 224/500\n",
      "1224/1224 [==============================] - 78s 64ms/step - loss: 0.0013 - PSNR: 29.1274 - val_loss: 0.0014 - val_PSNR: 28.7565\n",
      "Epoch 225/500\n",
      "1224/1224 [==============================] - 78s 64ms/step - loss: 0.0013 - PSNR: 29.2621 - val_loss: 0.0014 - val_PSNR: 28.9073\n",
      "Epoch 226/500\n",
      "1224/1224 [==============================] - 79s 64ms/step - loss: 0.0013 - PSNR: 29.3629 - val_loss: 0.0014 - val_PSNR: 29.0077\n",
      "Epoch 227/500\n",
      "1224/1224 [==============================] - 77s 63ms/step - loss: 0.0013 - PSNR: 29.3459 - val_loss: 0.0014 - val_PSNR: 29.0156\n",
      "Epoch 228/500\n",
      "1224/1224 [==============================] - 64s 52ms/step - loss: 0.0014 - PSNR: 28.7952 - val_loss: 0.0017 - val_PSNR: 27.8630\n",
      "Epoch 229/500\n"
     ]
    },
    {
     "name": "stdout",
     "output_type": "stream",
     "text": [
      "1224/1224 [==============================] - 54s 44ms/step - loss: 0.0014 - PSNR: 28.9000 - val_loss: 0.0014 - val_PSNR: 28.9791\n",
      "Epoch 230/500\n",
      "1224/1224 [==============================] - 55s 45ms/step - loss: 0.0013 - PSNR: 29.2257 - val_loss: 0.0014 - val_PSNR: 28.7842\n",
      "Epoch 231/500\n",
      "1224/1224 [==============================] - 55s 45ms/step - loss: 0.0014 - PSNR: 29.0206 - val_loss: 0.0015 - val_PSNR: 28.5171\n",
      "Epoch 232/500\n",
      "1224/1224 [==============================] - 55s 45ms/step - loss: 0.0013 - PSNR: 29.3309 - val_loss: 0.0014 - val_PSNR: 29.0019\n",
      "Epoch 233/500\n",
      "1224/1224 [==============================] - 56s 45ms/step - loss: 0.0013 - PSNR: 29.4058 - val_loss: 0.0014 - val_PSNR: 29.0112\n",
      "Epoch 234/500\n",
      "1224/1224 [==============================] - 44s 36ms/step - loss: 0.0013 - PSNR: 29.2679 - val_loss: 0.0014 - val_PSNR: 28.9355\n",
      "Epoch 235/500\n",
      "1224/1224 [==============================] - 43s 35ms/step - loss: 0.0013 - PSNR: 29.3212 - val_loss: 0.0014 - val_PSNR: 28.9630\n",
      "Epoch 236/500\n",
      "1224/1224 [==============================] - 43s 35ms/step - loss: 0.0013 - PSNR: 29.2677 - val_loss: 0.0015 - val_PSNR: 28.6611\n",
      "Epoch 237/500\n",
      "1224/1224 [==============================] - 42s 35ms/step - loss: 0.0013 - PSNR: 28.9960 - val_loss: 0.0014 - val_PSNR: 28.7436\n",
      "Epoch 238/500\n",
      "1224/1224 [==============================] - 42s 34ms/step - loss: 0.0013 - PSNR: 29.1856 - val_loss: 0.0014 - val_PSNR: 28.7922\n",
      "Epoch 239/500\n",
      "1224/1224 [==============================] - 43s 35ms/step - loss: 0.0013 - PSNR: 29.2317 - val_loss: 0.0016 - val_PSNR: 28.4046\n",
      "Epoch 240/500\n",
      "1224/1224 [==============================] - 42s 35ms/step - loss: 0.0015 - PSNR: 28.4810 - val_loss: 0.0017 - val_PSNR: 27.9918\n",
      "Epoch 241/500\n",
      "1224/1224 [==============================] - 42s 35ms/step - loss: 0.0013 - PSNR: 29.1171 - val_loss: 0.0014 - val_PSNR: 29.0135\n",
      "Epoch 242/500\n",
      "1224/1224 [==============================] - 42s 35ms/step - loss: 0.0013 - PSNR: 29.4168 - val_loss: 0.0014 - val_PSNR: 29.0211\n",
      "Epoch 243/500\n",
      "1224/1224 [==============================] - 42s 35ms/step - loss: 0.0013 - PSNR: 29.2644 - val_loss: 0.0014 - val_PSNR: 28.9969\n",
      "Epoch 244/500\n",
      "1224/1224 [==============================] - 42s 35ms/step - loss: 0.0013 - PSNR: 29.1407 - val_loss: 0.0014 - val_PSNR: 28.9851\n",
      "Epoch 245/500\n",
      "1224/1224 [==============================] - 42s 35ms/step - loss: 0.0013 - PSNR: 29.2205 - val_loss: 0.0014 - val_PSNR: 28.9818\n",
      "Epoch 246/500\n",
      "1224/1224 [==============================] - 42s 35ms/step - loss: 0.0013 - PSNR: 29.1328 - val_loss: 0.0014 - val_PSNR: 28.9797\n",
      "Epoch 247/500\n",
      "1224/1224 [==============================] - 42s 34ms/step - loss: 0.0013 - PSNR: 29.1141 - val_loss: 0.0014 - val_PSNR: 28.9235\n",
      "Epoch 248/500\n",
      "1224/1224 [==============================] - 43s 35ms/step - loss: 0.0013 - PSNR: 29.0144 - val_loss: 0.0014 - val_PSNR: 28.9459\n",
      "Epoch 249/500\n",
      "1224/1224 [==============================] - 43s 35ms/step - loss: 0.0013 - PSNR: 29.2262 - val_loss: 0.0014 - val_PSNR: 28.8354\n",
      "Epoch 250/500\n",
      "1224/1224 [==============================] - 42s 35ms/step - loss: 0.0013 - PSNR: 29.1155 - val_loss: 0.0014 - val_PSNR: 28.8269\n",
      "Epoch 251/500\n",
      "1224/1224 [==============================] - 43s 35ms/step - loss: 0.0013 - PSNR: 29.2875 - val_loss: 0.0014 - val_PSNR: 29.0250\n",
      "Epoch 252/500\n",
      "1224/1224 [==============================] - 43s 35ms/step - loss: 0.0013 - PSNR: 29.1852 - val_loss: 0.0015 - val_PSNR: 28.4265\n",
      "Epoch 253/500\n",
      "1224/1224 [==============================] - 42s 35ms/step - loss: 0.0019 - PSNR: 27.5408 - val_loss: 0.0014 - val_PSNR: 28.8202\n",
      "Epoch 254/500\n",
      "1224/1224 [==============================] - 42s 35ms/step - loss: 0.0013 - PSNR: 29.2534 - val_loss: 0.0014 - val_PSNR: 28.9683\n",
      "Epoch 255/500\n",
      "1224/1224 [==============================] - 42s 35ms/step - loss: 0.0013 - PSNR: 29.3089 - val_loss: 0.0014 - val_PSNR: 28.9845\n",
      "Epoch 256/500\n",
      "1224/1224 [==============================] - 43s 35ms/step - loss: 0.0013 - PSNR: 29.2633 - val_loss: 0.0014 - val_PSNR: 28.9983\n",
      "Epoch 257/500\n",
      "1224/1224 [==============================] - 42s 35ms/step - loss: 0.0013 - PSNR: 29.2864 - val_loss: 0.0014 - val_PSNR: 28.9953\n",
      "Epoch 258/500\n",
      "1224/1224 [==============================] - 42s 35ms/step - loss: 0.0013 - PSNR: 29.4127 - val_loss: 0.0014 - val_PSNR: 28.9894\n",
      "Epoch 259/500\n",
      "1224/1224 [==============================] - 42s 35ms/step - loss: 0.0013 - PSNR: 29.3581 - val_loss: 0.0014 - val_PSNR: 28.9908\n",
      "Epoch 260/500\n",
      "1224/1224 [==============================] - 42s 35ms/step - loss: 0.0013 - PSNR: 29.1693 - val_loss: 0.0016 - val_PSNR: 28.3382\n",
      "Epoch 261/500\n",
      "1224/1224 [==============================] - 42s 35ms/step - loss: 0.0014 - PSNR: 28.9229 - val_loss: 0.0014 - val_PSNR: 28.9903\n",
      "Epoch 262/500\n",
      "1224/1224 [==============================] - 42s 35ms/step - loss: 0.0013 - PSNR: 29.2873 - val_loss: 0.0014 - val_PSNR: 28.9345\n",
      "Epoch 263/500\n",
      "1224/1224 [==============================] - 42s 35ms/step - loss: 0.0013 - PSNR: 29.2677 - val_loss: 0.0014 - val_PSNR: 28.9500\n",
      "Epoch 264/500\n",
      "1224/1224 [==============================] - 42s 35ms/step - loss: 0.0013 - PSNR: 29.3013 - val_loss: 0.0014 - val_PSNR: 29.0028\n",
      "Epoch 265/500\n",
      "1224/1224 [==============================] - 43s 35ms/step - loss: 0.0013 - PSNR: 29.2802 - val_loss: 0.0014 - val_PSNR: 29.0047\n",
      "Epoch 266/500\n",
      "1224/1224 [==============================] - 42s 35ms/step - loss: 0.0013 - PSNR: 29.3727 - val_loss: 0.0015 - val_PSNR: 28.6564\n",
      "Epoch 267/500\n",
      "1224/1224 [==============================] - 42s 35ms/step - loss: 0.0022 - PSNR: 27.4513 - val_loss: 0.0014 - val_PSNR: 28.8418\n",
      "Epoch 268/500\n",
      "1224/1224 [==============================] - 42s 34ms/step - loss: 0.0013 - PSNR: 29.3152 - val_loss: 0.0014 - val_PSNR: 29.0345\n",
      "Epoch 269/500\n",
      "1224/1224 [==============================] - 43s 35ms/step - loss: 0.0013 - PSNR: 29.3794 - val_loss: 0.0014 - val_PSNR: 29.0336\n",
      "Epoch 270/500\n",
      "1224/1224 [==============================] - 42s 35ms/step - loss: 0.0013 - PSNR: 29.4148 - val_loss: 0.0014 - val_PSNR: 29.0415\n",
      "Epoch 271/500\n",
      "1224/1224 [==============================] - 43s 35ms/step - loss: 0.0013 - PSNR: 29.2455 - val_loss: 0.0014 - val_PSNR: 28.9946\n",
      "Epoch 272/500\n",
      "1224/1224 [==============================] - 43s 35ms/step - loss: 0.0013 - PSNR: 29.3255 - val_loss: 0.0014 - val_PSNR: 29.0282\n",
      "Epoch 273/500\n",
      "1224/1224 [==============================] - 42s 35ms/step - loss: 0.0013 - PSNR: 29.3429 - val_loss: 0.0014 - val_PSNR: 29.0332\n",
      "Epoch 274/500\n",
      "1224/1224 [==============================] - 42s 35ms/step - loss: 0.0013 - PSNR: 29.3874 - val_loss: 0.0014 - val_PSNR: 28.9911\n",
      "Epoch 275/500\n",
      "1224/1224 [==============================] - 42s 35ms/step - loss: 0.0013 - PSNR: 29.2902 - val_loss: 0.0022 - val_PSNR: 26.7554\n",
      "Epoch 276/500\n",
      "1224/1224 [==============================] - 42s 35ms/step - loss: 0.0013 - PSNR: 29.2451 - val_loss: 0.0014 - val_PSNR: 29.0346\n",
      "Epoch 277/500\n",
      "1224/1224 [==============================] - 42s 34ms/step - loss: 0.0013 - PSNR: 29.4033 - val_loss: 0.0014 - val_PSNR: 28.8519\n",
      "Epoch 278/500\n",
      "1224/1224 [==============================] - 42s 35ms/step - loss: 0.0013 - PSNR: 29.2711 - val_loss: 0.0014 - val_PSNR: 28.9920\n",
      "Epoch 279/500\n",
      "1224/1224 [==============================] - 42s 35ms/step - loss: 0.0013 - PSNR: 29.4451 - val_loss: 0.0014 - val_PSNR: 29.0339\n",
      "Epoch 280/500\n",
      "1224/1224 [==============================] - 42s 34ms/step - loss: 0.0013 - PSNR: 29.3349 - val_loss: 0.0014 - val_PSNR: 29.0472\n",
      "Epoch 281/500\n",
      "1224/1224 [==============================] - 42s 34ms/step - loss: 0.0013 - PSNR: 29.2407 - val_loss: 0.0015 - val_PSNR: 28.4079\n",
      "Epoch 282/500\n",
      "1224/1224 [==============================] - 42s 35ms/step - loss: 0.0013 - PSNR: 29.1054 - val_loss: 0.0015 - val_PSNR: 28.5110\n",
      "Epoch 283/500\n",
      "1224/1224 [==============================] - 42s 35ms/step - loss: 0.0013 - PSNR: 29.0738 - val_loss: 0.0014 - val_PSNR: 29.0282\n",
      "Epoch 284/500\n",
      "1224/1224 [==============================] - 42s 35ms/step - loss: 0.0014 - PSNR: 28.8650 - val_loss: 0.0014 - val_PSNR: 28.9612\n",
      "Epoch 285/500\n",
      "1224/1224 [==============================] - 42s 34ms/step - loss: 0.0013 - PSNR: 29.1783 - val_loss: 0.0014 - val_PSNR: 29.0082\n",
      "Epoch 286/500\n"
     ]
    },
    {
     "name": "stdout",
     "output_type": "stream",
     "text": [
      "1224/1224 [==============================] - 42s 35ms/step - loss: 0.0013 - PSNR: 29.2972 - val_loss: 0.0014 - val_PSNR: 29.0377\n",
      "Epoch 287/500\n",
      "1224/1224 [==============================] - 42s 35ms/step - loss: 0.0013 - PSNR: 29.3488 - val_loss: 0.0014 - val_PSNR: 29.0398\n",
      "Epoch 288/500\n",
      "1224/1224 [==============================] - 42s 35ms/step - loss: 0.0015 - PSNR: 28.6393 - val_loss: 0.0016 - val_PSNR: 28.2578\n",
      "Epoch 289/500\n",
      "1224/1224 [==============================] - 42s 34ms/step - loss: 0.0013 - PSNR: 29.1286 - val_loss: 0.0014 - val_PSNR: 28.8938\n",
      "Epoch 290/500\n",
      "1224/1224 [==============================] - 42s 35ms/step - loss: 0.0013 - PSNR: 29.3806 - val_loss: 0.0014 - val_PSNR: 28.9531\n",
      "Epoch 291/500\n",
      "1224/1224 [==============================] - 42s 35ms/step - loss: 0.0013 - PSNR: 29.3776 - val_loss: 0.0014 - val_PSNR: 28.9877\n",
      "Epoch 292/500\n",
      "1224/1224 [==============================] - 42s 35ms/step - loss: 0.0013 - PSNR: 29.4016 - val_loss: 0.0014 - val_PSNR: 29.0146\n",
      "Epoch 293/500\n",
      "1224/1224 [==============================] - 43s 35ms/step - loss: 0.0013 - PSNR: 29.3715 - val_loss: 0.0014 - val_PSNR: 29.0337\n",
      "Epoch 294/500\n",
      "1224/1224 [==============================] - 42s 35ms/step - loss: 0.0013 - PSNR: 29.3180 - val_loss: 0.0014 - val_PSNR: 29.0194\n",
      "Epoch 295/500\n",
      "1224/1224 [==============================] - 42s 34ms/step - loss: 0.0013 - PSNR: 29.3035 - val_loss: 0.0014 - val_PSNR: 28.8874\n",
      "Epoch 296/500\n",
      "1224/1224 [==============================] - 42s 35ms/step - loss: 0.0013 - PSNR: 29.2796 - val_loss: 0.0014 - val_PSNR: 29.0500\n",
      "Epoch 297/500\n",
      "1224/1224 [==============================] - 42s 34ms/step - loss: 0.0013 - PSNR: 29.3394 - val_loss: 0.0014 - val_PSNR: 29.0422\n",
      "Epoch 298/500\n",
      "1224/1224 [==============================] - 42s 34ms/step - loss: 0.0019 - PSNR: 28.1994 - val_loss: 0.0055 - val_PSNR: 22.6927\n",
      "Epoch 299/500\n",
      "1224/1224 [==============================] - 42s 35ms/step - loss: 0.0018 - PSNR: 27.9174 - val_loss: 0.0014 - val_PSNR: 28.9711\n",
      "Epoch 300/500\n",
      "1224/1224 [==============================] - 42s 35ms/step - loss: 0.0015 - PSNR: 28.6125 - val_loss: 0.0014 - val_PSNR: 29.0053\n",
      "Epoch 301/500\n",
      "1224/1224 [==============================] - 42s 35ms/step - loss: 0.0013 - PSNR: 29.3076 - val_loss: 0.0014 - val_PSNR: 29.0431\n",
      "Epoch 302/500\n",
      "1224/1224 [==============================] - 43s 35ms/step - loss: 0.0013 - PSNR: 29.3185 - val_loss: 0.0013 - val_PSNR: 29.0606\n",
      "Epoch 303/500\n",
      "1224/1224 [==============================] - 42s 35ms/step - loss: 0.0013 - PSNR: 29.4165 - val_loss: 0.0014 - val_PSNR: 29.0030\n",
      "Epoch 304/500\n",
      "1224/1224 [==============================] - 42s 34ms/step - loss: 0.0013 - PSNR: 29.2818 - val_loss: 0.0013 - val_PSNR: 29.0618\n",
      "Epoch 305/500\n",
      "1224/1224 [==============================] - 42s 35ms/step - loss: 0.0013 - PSNR: 29.3790 - val_loss: 0.0013 - val_PSNR: 29.0681\n",
      "Epoch 306/500\n",
      "1224/1224 [==============================] - 42s 35ms/step - loss: 0.0013 - PSNR: 29.4230 - val_loss: 0.0013 - val_PSNR: 29.0698\n",
      "Epoch 307/500\n",
      "1224/1224 [==============================] - 42s 35ms/step - loss: 0.0013 - PSNR: 29.3641 - val_loss: 0.0015 - val_PSNR: 28.5617\n",
      "Epoch 308/500\n",
      "1224/1224 [==============================] - 43s 35ms/step - loss: 0.0013 - PSNR: 29.2432 - val_loss: 0.0013 - val_PSNR: 29.0665\n",
      "Epoch 309/500\n",
      "1224/1224 [==============================] - 42s 35ms/step - loss: 0.0013 - PSNR: 29.1765 - val_loss: 0.0013 - val_PSNR: 29.0680\n",
      "Epoch 310/500\n",
      "1224/1224 [==============================] - 42s 35ms/step - loss: 0.0013 - PSNR: 29.3143 - val_loss: 0.0013 - val_PSNR: 29.0666\n",
      "Epoch 311/500\n",
      "1224/1224 [==============================] - 42s 34ms/step - loss: 0.0014 - PSNR: 29.0396 - val_loss: 0.0014 - val_PSNR: 28.8809\n",
      "Epoch 312/500\n",
      "1224/1224 [==============================] - 42s 34ms/step - loss: 0.0014 - PSNR: 28.7486 - val_loss: 0.0014 - val_PSNR: 28.9275\n",
      "Epoch 313/500\n",
      "1224/1224 [==============================] - 43s 35ms/step - loss: 0.0013 - PSNR: 29.3101 - val_loss: 0.0013 - val_PSNR: 29.0536\n",
      "Epoch 314/500\n",
      "1224/1224 [==============================] - 43s 35ms/step - loss: 0.0013 - PSNR: 29.3572 - val_loss: 0.0014 - val_PSNR: 29.0503\n",
      "Epoch 315/500\n",
      "1224/1224 [==============================] - 41s 34ms/step - loss: 0.0013 - PSNR: 29.3308 - val_loss: 0.0014 - val_PSNR: 29.0481\n",
      "Epoch 316/500\n",
      "1224/1224 [==============================] - 42s 34ms/step - loss: 0.0013 - PSNR: 29.3227 - val_loss: 0.0014 - val_PSNR: 28.9681\n",
      "Epoch 317/500\n",
      "1224/1224 [==============================] - 42s 34ms/step - loss: 0.0013 - PSNR: 29.3068 - val_loss: 0.0014 - val_PSNR: 29.0510\n",
      "Epoch 318/500\n",
      "1224/1224 [==============================] - 42s 34ms/step - loss: 0.0013 - PSNR: 29.3016 - val_loss: 0.0014 - val_PSNR: 28.9683\n",
      "Epoch 319/500\n",
      "1224/1224 [==============================] - 42s 34ms/step - loss: 0.0013 - PSNR: 29.3390 - val_loss: 0.0014 - val_PSNR: 29.0429\n",
      "Epoch 320/500\n",
      "1224/1224 [==============================] - 42s 34ms/step - loss: 0.0013 - PSNR: 29.3587 - val_loss: 0.0013 - val_PSNR: 29.0643\n",
      "Epoch 321/500\n",
      "1224/1224 [==============================] - 42s 34ms/step - loss: 0.0013 - PSNR: 29.3493 - val_loss: 0.0014 - val_PSNR: 29.0445\n",
      "Epoch 322/500\n",
      "1224/1224 [==============================] - 41s 34ms/step - loss: 0.0013 - PSNR: 29.3502 - val_loss: 0.0014 - val_PSNR: 29.0424\n",
      "Epoch 323/500\n",
      "1224/1224 [==============================] - 41s 34ms/step - loss: 0.0013 - PSNR: 29.2760 - val_loss: 0.0014 - val_PSNR: 28.8194\n",
      "Epoch 324/500\n",
      "1224/1224 [==============================] - 42s 34ms/step - loss: 0.0014 - PSNR: 28.9487 - val_loss: 0.0014 - val_PSNR: 29.0286\n",
      "Epoch 325/500\n",
      "1224/1224 [==============================] - 41s 34ms/step - loss: 0.0013 - PSNR: 29.3229 - val_loss: 0.0013 - val_PSNR: 29.0739\n",
      "Epoch 326/500\n",
      "1224/1224 [==============================] - 42s 34ms/step - loss: 0.0016 - PSNR: 28.4412 - val_loss: 0.0019 - val_PSNR: 27.4766\n",
      "Epoch 327/500\n",
      "1224/1224 [==============================] - 42s 34ms/step - loss: 0.0013 - PSNR: 29.1760 - val_loss: 0.0014 - val_PSNR: 28.8712\n",
      "Epoch 328/500\n",
      "1224/1224 [==============================] - 41s 34ms/step - loss: 0.0013 - PSNR: 29.1653 - val_loss: 0.0015 - val_PSNR: 28.5857\n",
      "Epoch 329/500\n",
      "1224/1224 [==============================] - 42s 34ms/step - loss: 0.0014 - PSNR: 28.8431 - val_loss: 0.0014 - val_PSNR: 29.0245\n",
      "Epoch 330/500\n",
      "1224/1224 [==============================] - 42s 34ms/step - loss: 0.0013 - PSNR: 29.0029 - val_loss: 0.0014 - val_PSNR: 29.0446\n",
      "Epoch 331/500\n",
      "1224/1224 [==============================] - 42s 34ms/step - loss: 0.0013 - PSNR: 29.3449 - val_loss: 0.0013 - val_PSNR: 29.0644\n",
      "Epoch 332/500\n",
      "1224/1224 [==============================] - 42s 34ms/step - loss: 0.0013 - PSNR: 29.3265 - val_loss: 0.0014 - val_PSNR: 28.9043\n",
      "Epoch 333/500\n",
      "1224/1224 [==============================] - 42s 34ms/step - loss: 0.0013 - PSNR: 29.2076 - val_loss: 0.0014 - val_PSNR: 29.0028\n",
      "Epoch 334/500\n",
      "1224/1224 [==============================] - 42s 34ms/step - loss: 0.0013 - PSNR: 29.3053 - val_loss: 0.0013 - val_PSNR: 29.0644\n",
      "Epoch 335/500\n",
      "1224/1224 [==============================] - 42s 34ms/step - loss: 0.0013 - PSNR: 29.1407 - val_loss: 0.0015 - val_PSNR: 28.6773\n",
      "Epoch 336/500\n",
      "1224/1224 [==============================] - 42s 34ms/step - loss: 0.0018 - PSNR: 27.9334 - val_loss: 0.0014 - val_PSNR: 28.9945\n",
      "Epoch 337/500\n",
      "1224/1224 [==============================] - 41s 34ms/step - loss: 0.0013 - PSNR: 29.3038 - val_loss: 0.0014 - val_PSNR: 28.8789\n",
      "Epoch 338/500\n",
      "1224/1224 [==============================] - 41s 34ms/step - loss: 0.0019 - PSNR: 27.8136 - val_loss: 0.0014 - val_PSNR: 28.9463\n",
      "Epoch 339/500\n",
      "1224/1224 [==============================] - 42s 34ms/step - loss: 0.0013 - PSNR: 29.2574 - val_loss: 0.0014 - val_PSNR: 29.0329\n",
      "Epoch 340/500\n",
      "1224/1224 [==============================] - 42s 34ms/step - loss: 0.0012 - PSNR: 29.3935 - val_loss: 0.0014 - val_PSNR: 29.0357\n",
      "Epoch 341/500\n",
      "1224/1224 [==============================] - 42s 34ms/step - loss: 0.0012 - PSNR: 29.3412 - val_loss: 0.0014 - val_PSNR: 29.0427\n",
      "Epoch 342/500\n",
      "1224/1224 [==============================] - 42s 34ms/step - loss: 0.0012 - PSNR: 29.4215 - val_loss: 0.0014 - val_PSNR: 29.0446\n",
      "Epoch 343/500\n"
     ]
    },
    {
     "name": "stdout",
     "output_type": "stream",
     "text": [
      "1224/1224 [==============================] - 41s 34ms/step - loss: 0.0012 - PSNR: 29.3478 - val_loss: 0.0013 - val_PSNR: 29.0487\n",
      "Epoch 344/500\n",
      "1224/1224 [==============================] - 42s 34ms/step - loss: 0.0012 - PSNR: 29.4176 - val_loss: 0.0013 - val_PSNR: 29.0509\n",
      "Epoch 345/500\n",
      "1224/1224 [==============================] - 42s 34ms/step - loss: 0.0012 - PSNR: 29.4617 - val_loss: 0.0013 - val_PSNR: 29.0555\n",
      "Epoch 346/500\n",
      "1224/1224 [==============================] - 42s 34ms/step - loss: 0.0012 - PSNR: 29.3661 - val_loss: 0.0013 - val_PSNR: 29.0514\n",
      "Epoch 347/500\n",
      "1224/1224 [==============================] - 41s 34ms/step - loss: 0.0012 - PSNR: 29.3710 - val_loss: 0.0013 - val_PSNR: 29.0640\n",
      "Epoch 348/500\n",
      "1224/1224 [==============================] - 42s 34ms/step - loss: 0.0013 - PSNR: 29.4006 - val_loss: 0.0013 - val_PSNR: 29.0619\n",
      "Epoch 349/500\n",
      "1224/1224 [==============================] - 42s 34ms/step - loss: 0.0012 - PSNR: 29.4077 - val_loss: 0.0013 - val_PSNR: 29.0622\n",
      "Epoch 350/500\n",
      "1224/1224 [==============================] - 42s 34ms/step - loss: 0.0013 - PSNR: 29.1606 - val_loss: 0.0014 - val_PSNR: 28.9736\n",
      "Epoch 351/500\n",
      "1224/1224 [==============================] - 42s 34ms/step - loss: 0.0013 - PSNR: 29.3361 - val_loss: 0.0013 - val_PSNR: 29.0607\n",
      "Epoch 352/500\n",
      "1224/1224 [==============================] - 42s 34ms/step - loss: 0.0013 - PSNR: 29.4513 - val_loss: 0.0013 - val_PSNR: 29.0571\n",
      "Epoch 353/500\n",
      "1224/1224 [==============================] - 42s 34ms/step - loss: 0.0013 - PSNR: 29.3043 - val_loss: 0.0014 - val_PSNR: 29.0441\n",
      "Epoch 354/500\n",
      "1224/1224 [==============================] - 42s 34ms/step - loss: 0.0014 - PSNR: 28.9566 - val_loss: 0.0014 - val_PSNR: 29.0240\n",
      "Epoch 355/500\n",
      "1224/1224 [==============================] - 42s 34ms/step - loss: 0.0013 - PSNR: 29.3418 - val_loss: 0.0013 - val_PSNR: 29.0754\n",
      "Epoch 356/500\n",
      "1224/1224 [==============================] - 42s 34ms/step - loss: 0.0013 - PSNR: 29.3489 - val_loss: 0.0014 - val_PSNR: 29.0057\n",
      "Epoch 357/500\n",
      "1224/1224 [==============================] - 42s 34ms/step - loss: 0.0013 - PSNR: 29.3257 - val_loss: 0.0013 - val_PSNR: 29.0834\n",
      "Epoch 358/500\n",
      "1224/1224 [==============================] - 41s 34ms/step - loss: 0.0013 - PSNR: 29.3525 - val_loss: 0.0013 - val_PSNR: 29.0812\n",
      "Epoch 359/500\n",
      "1224/1224 [==============================] - 42s 34ms/step - loss: 0.0013 - PSNR: 29.3649 - val_loss: 0.0013 - val_PSNR: 29.0726\n",
      "Epoch 360/500\n",
      "1224/1224 [==============================] - 41s 34ms/step - loss: 0.0013 - PSNR: 29.3290 - val_loss: 0.0013 - val_PSNR: 29.0865\n",
      "Epoch 361/500\n",
      "1224/1224 [==============================] - 42s 34ms/step - loss: 0.0013 - PSNR: 29.3986 - val_loss: 0.0013 - val_PSNR: 29.0875\n",
      "Epoch 362/500\n",
      "1224/1224 [==============================] - 42s 34ms/step - loss: 0.0013 - PSNR: 29.2938 - val_loss: 0.0015 - val_PSNR: 28.4779\n",
      "Epoch 363/500\n",
      "1224/1224 [==============================] - 42s 34ms/step - loss: 0.0013 - PSNR: 29.0369 - val_loss: 0.0014 - val_PSNR: 29.0546\n",
      "Epoch 364/500\n",
      "1224/1224 [==============================] - 42s 34ms/step - loss: 0.0013 - PSNR: 29.3461 - val_loss: 0.0014 - val_PSNR: 28.8082\n",
      "Epoch 365/500\n",
      "1224/1224 [==============================] - 42s 34ms/step - loss: 0.0016 - PSNR: 28.6081 - val_loss: 0.0018 - val_PSNR: 27.6257\n",
      "Epoch 366/500\n",
      "1224/1224 [==============================] - 42s 34ms/step - loss: 0.0013 - PSNR: 29.2479 - val_loss: 0.0013 - val_PSNR: 29.0880\n",
      "Epoch 367/500\n",
      "1224/1224 [==============================] - 42s 34ms/step - loss: 0.0013 - PSNR: 29.3492 - val_loss: 0.0013 - val_PSNR: 29.0856\n",
      "Epoch 368/500\n",
      "1224/1224 [==============================] - 42s 34ms/step - loss: 0.0013 - PSNR: 29.4266 - val_loss: 0.0013 - val_PSNR: 29.0741\n",
      "Epoch 369/500\n",
      "1224/1224 [==============================] - 42s 34ms/step - loss: 0.0013 - PSNR: 29.3083 - val_loss: 0.0013 - val_PSNR: 29.0565\n",
      "Epoch 370/500\n",
      "1224/1224 [==============================] - 42s 34ms/step - loss: 0.0013 - PSNR: 29.2787 - val_loss: 0.0014 - val_PSNR: 29.0502\n",
      "Epoch 371/500\n",
      "1224/1224 [==============================] - 42s 34ms/step - loss: 0.0014 - PSNR: 28.8714 - val_loss: 0.0015 - val_PSNR: 28.4029\n",
      "Epoch 372/500\n",
      "1224/1224 [==============================] - 42s 34ms/step - loss: 0.0013 - PSNR: 29.1667 - val_loss: 0.0014 - val_PSNR: 29.0442\n",
      "Epoch 373/500\n",
      "1224/1224 [==============================] - 42s 34ms/step - loss: 0.0013 - PSNR: 29.2738 - val_loss: 0.0014 - val_PSNR: 29.0213\n",
      "Epoch 374/500\n",
      "1224/1224 [==============================] - 42s 34ms/step - loss: 0.0013 - PSNR: 29.3517 - val_loss: 0.0013 - val_PSNR: 29.0997\n",
      "Epoch 375/500\n",
      "1224/1224 [==============================] - 42s 34ms/step - loss: 0.0013 - PSNR: 29.3237 - val_loss: 0.0013 - val_PSNR: 29.1007\n",
      "Epoch 376/500\n",
      "1224/1224 [==============================] - 42s 34ms/step - loss: 0.0013 - PSNR: 29.2292 - val_loss: 0.0014 - val_PSNR: 28.9687\n",
      "Epoch 377/500\n",
      "1224/1224 [==============================] - 42s 34ms/step - loss: 0.0013 - PSNR: 28.9692 - val_loss: 0.0015 - val_PSNR: 28.5027\n",
      "Epoch 378/500\n",
      "1224/1224 [==============================] - 42s 34ms/step - loss: 0.0015 - PSNR: 28.7007 - val_loss: 0.0014 - val_PSNR: 28.9740\n",
      "Epoch 379/500\n",
      "1224/1224 [==============================] - 42s 34ms/step - loss: 0.0013 - PSNR: 29.3161 - val_loss: 0.0014 - val_PSNR: 28.9115\n",
      "Epoch 380/500\n",
      "1224/1224 [==============================] - 42s 34ms/step - loss: 0.0013 - PSNR: 29.2055 - val_loss: 0.0013 - val_PSNR: 29.0579\n",
      "Epoch 381/500\n",
      "1224/1224 [==============================] - 42s 34ms/step - loss: 0.0013 - PSNR: 29.2928 - val_loss: 0.0014 - val_PSNR: 29.0276\n",
      "Epoch 382/500\n",
      "1224/1224 [==============================] - 42s 34ms/step - loss: 0.0013 - PSNR: 29.3174 - val_loss: 0.0014 - val_PSNR: 29.0518\n",
      "Epoch 383/500\n",
      "1224/1224 [==============================] - 42s 34ms/step - loss: 0.0014 - PSNR: 28.8055 - val_loss: 0.0022 - val_PSNR: 26.7698\n",
      "Epoch 384/500\n",
      "1224/1224 [==============================] - 42s 34ms/step - loss: 0.0015 - PSNR: 28.6487 - val_loss: 0.0014 - val_PSNR: 29.0030\n",
      "Epoch 385/500\n",
      "1224/1224 [==============================] - 42s 34ms/step - loss: 0.0013 - PSNR: 29.3160 - val_loss: 0.0013 - val_PSNR: 29.0738\n",
      "Epoch 386/500\n",
      "1224/1224 [==============================] - 42s 34ms/step - loss: 0.0012 - PSNR: 29.4468 - val_loss: 0.0013 - val_PSNR: 29.0939\n",
      "Epoch 387/500\n",
      "1224/1224 [==============================] - 42s 34ms/step - loss: 0.0013 - PSNR: 29.4202 - val_loss: 0.0013 - val_PSNR: 29.0798\n",
      "Epoch 388/500\n",
      "1224/1224 [==============================] - 42s 34ms/step - loss: 0.0012 - PSNR: 29.3501 - val_loss: 0.0013 - val_PSNR: 29.0875\n",
      "Epoch 389/500\n",
      "1224/1224 [==============================] - 42s 34ms/step - loss: 0.0013 - PSNR: 29.1443 - val_loss: 0.0014 - val_PSNR: 28.9100\n",
      "Epoch 390/500\n",
      "1224/1224 [==============================] - 42s 34ms/step - loss: 0.0015 - PSNR: 28.6052 - val_loss: 0.0014 - val_PSNR: 29.0426\n",
      "Epoch 391/500\n",
      "1224/1224 [==============================] - 42s 34ms/step - loss: 0.0013 - PSNR: 29.3413 - val_loss: 0.0013 - val_PSNR: 29.0889\n",
      "Epoch 392/500\n",
      "1224/1224 [==============================] - 42s 34ms/step - loss: 0.0013 - PSNR: 29.3178 - val_loss: 0.0013 - val_PSNR: 29.0740\n",
      "Epoch 393/500\n",
      "1224/1224 [==============================] - 42s 34ms/step - loss: 0.0013 - PSNR: 29.2990 - val_loss: 0.0015 - val_PSNR: 28.4893\n",
      "Epoch 394/500\n",
      "1224/1224 [==============================] - 42s 34ms/step - loss: 0.0013 - PSNR: 29.3398 - val_loss: 0.0013 - val_PSNR: 29.0880\n",
      "Epoch 395/500\n",
      "1224/1224 [==============================] - 42s 34ms/step - loss: 0.0013 - PSNR: 29.1762 - val_loss: 0.0015 - val_PSNR: 28.4596\n",
      "Epoch 396/500\n",
      "1224/1224 [==============================] - 42s 34ms/step - loss: 0.0013 - PSNR: 29.0578 - val_loss: 0.0013 - val_PSNR: 29.0878\n",
      "Epoch 397/500\n",
      "1224/1224 [==============================] - 42s 34ms/step - loss: 0.0013 - PSNR: 29.3370 - val_loss: 0.0013 - val_PSNR: 29.0866\n",
      "Epoch 398/500\n",
      "1224/1224 [==============================] - 42s 34ms/step - loss: 0.0013 - PSNR: 29.4584 - val_loss: 0.0013 - val_PSNR: 29.0741\n",
      "Epoch 399/500\n",
      "1224/1224 [==============================] - 42s 34ms/step - loss: 0.0013 - PSNR: 29.3109 - val_loss: 0.0013 - val_PSNR: 29.0948\n",
      "Epoch 400/500\n"
     ]
    },
    {
     "name": "stdout",
     "output_type": "stream",
     "text": [
      "1224/1224 [==============================] - 42s 35ms/step - loss: 0.0013 - PSNR: 29.2941 - val_loss: 0.0013 - val_PSNR: 29.0629\n",
      "Epoch 401/500\n",
      "1224/1224 [==============================] - 42s 34ms/step - loss: 0.0013 - PSNR: 29.4388 - val_loss: 0.0013 - val_PSNR: 29.0762\n",
      "Epoch 402/500\n",
      "1224/1224 [==============================] - 42s 35ms/step - loss: 0.0013 - PSNR: 29.4048 - val_loss: 0.0013 - val_PSNR: 29.0947\n",
      "Epoch 403/500\n",
      "1224/1224 [==============================] - 42s 34ms/step - loss: 0.0016 - PSNR: 28.2366 - val_loss: 0.0018 - val_PSNR: 27.7664\n",
      "Epoch 404/500\n",
      "1224/1224 [==============================] - 42s 34ms/step - loss: 0.0015 - PSNR: 28.6262 - val_loss: 0.0016 - val_PSNR: 28.3518\n",
      "Epoch 405/500\n",
      "1224/1224 [==============================] - 42s 34ms/step - loss: 0.0013 - PSNR: 29.2415 - val_loss: 0.0013 - val_PSNR: 29.0590\n",
      "Epoch 406/500\n",
      "1224/1224 [==============================] - 42s 34ms/step - loss: 0.0012 - PSNR: 29.3594 - val_loss: 0.0013 - val_PSNR: 29.0615\n",
      "Epoch 407/500\n",
      "1224/1224 [==============================] - 42s 34ms/step - loss: 0.0012 - PSNR: 29.4245 - val_loss: 0.0013 - val_PSNR: 29.0698\n",
      "Epoch 408/500\n",
      "1224/1224 [==============================] - 42s 34ms/step - loss: 0.0012 - PSNR: 29.4017 - val_loss: 0.0013 - val_PSNR: 29.0756\n",
      "Epoch 409/500\n",
      "1224/1224 [==============================] - 42s 34ms/step - loss: 0.0012 - PSNR: 29.4566 - val_loss: 0.0013 - val_PSNR: 29.0716\n",
      "Epoch 410/500\n",
      "1224/1224 [==============================] - 42s 34ms/step - loss: 0.0012 - PSNR: 29.3507 - val_loss: 0.0013 - val_PSNR: 29.0761\n",
      "Epoch 411/500\n",
      "1224/1224 [==============================] - 42s 34ms/step - loss: 0.0012 - PSNR: 29.3751 - val_loss: 0.0013 - val_PSNR: 29.0810\n",
      "Epoch 412/500\n",
      "1224/1224 [==============================] - 42s 34ms/step - loss: 0.0012 - PSNR: 29.2899 - val_loss: 0.0013 - val_PSNR: 29.0736\n",
      "Epoch 413/500\n",
      "1224/1224 [==============================] - 42s 35ms/step - loss: 0.0013 - PSNR: 29.0978 - val_loss: 0.0014 - val_PSNR: 29.0028\n",
      "Epoch 414/500\n",
      "1224/1224 [==============================] - 42s 34ms/step - loss: 0.0013 - PSNR: 29.3575 - val_loss: 0.0013 - val_PSNR: 29.0493\n",
      "Epoch 415/500\n",
      "1224/1224 [==============================] - 42s 34ms/step - loss: 0.0013 - PSNR: 29.3082 - val_loss: 0.0013 - val_PSNR: 29.0735\n",
      "Epoch 416/500\n",
      "1224/1224 [==============================] - 42s 34ms/step - loss: 0.0013 - PSNR: 29.1636 - val_loss: 0.0014 - val_PSNR: 28.8930\n",
      "Epoch 417/500\n",
      "1224/1224 [==============================] - 42s 34ms/step - loss: 0.0013 - PSNR: 29.2821 - val_loss: 0.0013 - val_PSNR: 29.0632\n",
      "Epoch 418/500\n",
      "1224/1224 [==============================] - 42s 34ms/step - loss: 0.0013 - PSNR: 29.3304 - val_loss: 0.0014 - val_PSNR: 28.9902\n",
      "Epoch 419/500\n",
      "1224/1224 [==============================] - 42s 34ms/step - loss: 0.0013 - PSNR: 29.1501 - val_loss: 0.0022 - val_PSNR: 26.8050\n",
      "Epoch 420/500\n",
      "1224/1224 [==============================] - 42s 34ms/step - loss: 0.0019 - PSNR: 27.8161 - val_loss: 0.0014 - val_PSNR: 28.7352\n",
      "Epoch 421/500\n",
      "1224/1224 [==============================] - 42s 34ms/step - loss: 0.0013 - PSNR: 29.2670 - val_loss: 0.0014 - val_PSNR: 29.0367\n",
      "Epoch 422/500\n",
      "1224/1224 [==============================] - 42s 34ms/step - loss: 0.0013 - PSNR: 29.1720 - val_loss: 0.0014 - val_PSNR: 28.8719\n",
      "Epoch 423/500\n",
      "1224/1224 [==============================] - 42s 34ms/step - loss: 0.0013 - PSNR: 29.2194 - val_loss: 0.0014 - val_PSNR: 28.8696\n",
      "Epoch 424/500\n",
      "1224/1224 [==============================] - 42s 34ms/step - loss: 0.0013 - PSNR: 29.2947 - val_loss: 0.0015 - val_PSNR: 28.5360\n",
      "Epoch 425/500\n",
      "1224/1224 [==============================] - 42s 34ms/step - loss: 0.0013 - PSNR: 29.3042 - val_loss: 0.0013 - val_PSNR: 29.0530\n",
      "Epoch 426/500\n",
      "1224/1224 [==============================] - 42s 35ms/step - loss: 0.0012 - PSNR: 29.3726 - val_loss: 0.0013 - val_PSNR: 29.0629\n",
      "Epoch 427/500\n",
      "1224/1224 [==============================] - 42s 34ms/step - loss: 0.0012 - PSNR: 29.3305 - val_loss: 0.0013 - val_PSNR: 29.0681\n",
      "Epoch 428/500\n",
      "1224/1224 [==============================] - 42s 35ms/step - loss: 0.0012 - PSNR: 29.4472 - val_loss: 0.0013 - val_PSNR: 29.0664\n",
      "Epoch 429/500\n",
      "1224/1224 [==============================] - 42s 34ms/step - loss: 0.0014 - PSNR: 28.8808 - val_loss: 0.0015 - val_PSNR: 28.4676\n",
      "Epoch 430/500\n",
      "1224/1224 [==============================] - 42s 34ms/step - loss: 0.0013 - PSNR: 29.2311 - val_loss: 0.0014 - val_PSNR: 28.8523\n",
      "Epoch 431/500\n",
      "1224/1224 [==============================] - 42s 34ms/step - loss: 0.0013 - PSNR: 29.3394 - val_loss: 0.0013 - val_PSNR: 29.0794\n",
      "Epoch 432/500\n",
      "1224/1224 [==============================] - 42s 34ms/step - loss: 0.0013 - PSNR: 29.3079 - val_loss: 0.0014 - val_PSNR: 28.9057\n",
      "Epoch 433/500\n",
      "1224/1224 [==============================] - 42s 34ms/step - loss: 0.0013 - PSNR: 29.2709 - val_loss: 0.0013 - val_PSNR: 29.0890\n",
      "Epoch 434/500\n",
      "1224/1224 [==============================] - 42s 34ms/step - loss: 0.0013 - PSNR: 29.3421 - val_loss: 0.0014 - val_PSNR: 29.0303\n",
      "Epoch 435/500\n",
      "1224/1224 [==============================] - 42s 34ms/step - loss: 0.0013 - PSNR: 29.3301 - val_loss: 0.0014 - val_PSNR: 28.9549\n",
      "Epoch 436/500\n",
      "1224/1224 [==============================] - 42s 34ms/step - loss: 0.0013 - PSNR: 29.2781 - val_loss: 0.0014 - val_PSNR: 28.8995\n",
      "Epoch 437/500\n",
      "1224/1224 [==============================] - 42s 34ms/step - loss: 0.0013 - PSNR: 29.2208 - val_loss: 0.0014 - val_PSNR: 28.8312\n",
      "Epoch 438/500\n",
      "1224/1224 [==============================] - 42s 34ms/step - loss: 0.0013 - PSNR: 29.2795 - val_loss: 0.0014 - val_PSNR: 28.8857\n",
      "Epoch 439/500\n",
      "1224/1224 [==============================] - 42s 34ms/step - loss: 0.0014 - PSNR: 28.7801 - val_loss: 0.0016 - val_PSNR: 28.3385\n",
      "Epoch 440/500\n",
      "1224/1224 [==============================] - 42s 34ms/step - loss: 0.0016 - PSNR: 28.2972 - val_loss: 0.0014 - val_PSNR: 28.7896\n",
      "Epoch 441/500\n",
      "1224/1224 [==============================] - 42s 34ms/step - loss: 0.0013 - PSNR: 29.3017 - val_loss: 0.0013 - val_PSNR: 29.0710\n",
      "Epoch 442/500\n",
      "1224/1224 [==============================] - 42s 35ms/step - loss: 0.0013 - PSNR: 29.3827 - val_loss: 0.0013 - val_PSNR: 29.0791\n",
      "Epoch 443/500\n",
      "1224/1224 [==============================] - 42s 34ms/step - loss: 0.0012 - PSNR: 29.4002 - val_loss: 0.0013 - val_PSNR: 29.0935\n",
      "Epoch 444/500\n",
      "1224/1224 [==============================] - 42s 34ms/step - loss: 0.0013 - PSNR: 29.4110 - val_loss: 0.0013 - val_PSNR: 29.1018\n",
      "Epoch 445/500\n",
      "1224/1224 [==============================] - 42s 34ms/step - loss: 0.0013 - PSNR: 29.3617 - val_loss: 0.0013 - val_PSNR: 29.0891\n",
      "Epoch 446/500\n",
      "1224/1224 [==============================] - 42s 34ms/step - loss: 0.0013 - PSNR: 29.3263 - val_loss: 0.0013 - val_PSNR: 29.0702\n",
      "Epoch 447/500\n",
      "1224/1224 [==============================] - 42s 35ms/step - loss: 0.0013 - PSNR: 29.4034 - val_loss: 0.0013 - val_PSNR: 29.0766\n",
      "Epoch 448/500\n",
      "1224/1224 [==============================] - 42s 35ms/step - loss: 0.0013 - PSNR: 29.4059 - val_loss: 0.0013 - val_PSNR: 29.1067\n",
      "Epoch 449/500\n",
      "1224/1224 [==============================] - 42s 34ms/step - loss: 0.0012 - PSNR: 29.4041 - val_loss: 0.0013 - val_PSNR: 29.1053\n",
      "Epoch 450/500\n",
      "1224/1224 [==============================] - 42s 35ms/step - loss: 0.0013 - PSNR: 29.3942 - val_loss: 0.0013 - val_PSNR: 29.0958\n",
      "Epoch 451/500\n",
      "1224/1224 [==============================] - 42s 34ms/step - loss: 0.0014 - PSNR: 28.8821 - val_loss: 0.0014 - val_PSNR: 29.0534\n",
      "Epoch 452/500\n",
      "1224/1224 [==============================] - 42s 34ms/step - loss: 0.0013 - PSNR: 29.2167 - val_loss: 0.0013 - val_PSNR: 29.0779\n",
      "Epoch 453/500\n",
      "1224/1224 [==============================] - 42s 34ms/step - loss: 0.0013 - PSNR: 29.4390 - val_loss: 0.0013 - val_PSNR: 29.0569\n",
      "Epoch 454/500\n",
      "1224/1224 [==============================] - 42s 35ms/step - loss: 0.0013 - PSNR: 29.3534 - val_loss: 0.0013 - val_PSNR: 29.0742\n",
      "Epoch 455/500\n",
      "1224/1224 [==============================] - 42s 34ms/step - loss: 0.0014 - PSNR: 28.9571 - val_loss: 0.0014 - val_PSNR: 28.9003\n",
      "Epoch 456/500\n",
      "1224/1224 [==============================] - 42s 35ms/step - loss: 0.0013 - PSNR: 29.1580 - val_loss: 0.0014 - val_PSNR: 28.8196\n",
      "Epoch 457/500\n"
     ]
    },
    {
     "name": "stdout",
     "output_type": "stream",
     "text": [
      "1224/1224 [==============================] - 42s 34ms/step - loss: 0.0013 - PSNR: 29.3666 - val_loss: 0.0013 - val_PSNR: 29.0959\n",
      "Epoch 458/500\n",
      "1224/1224 [==============================] - 42s 34ms/step - loss: 0.0013 - PSNR: 29.2647 - val_loss: 0.0013 - val_PSNR: 29.0631\n",
      "Epoch 459/500\n",
      "1224/1224 [==============================] - 42s 35ms/step - loss: 0.0012 - PSNR: 29.3287 - val_loss: 0.0013 - val_PSNR: 29.1034\n",
      "Epoch 460/500\n",
      "1224/1224 [==============================] - 42s 35ms/step - loss: 0.0012 - PSNR: 29.4568 - val_loss: 0.0013 - val_PSNR: 29.0871\n",
      "Epoch 461/500\n",
      "1224/1224 [==============================] - 42s 34ms/step - loss: 0.0013 - PSNR: 29.1883 - val_loss: 0.0014 - val_PSNR: 28.9334\n",
      "Epoch 462/500\n",
      "1224/1224 [==============================] - 42s 34ms/step - loss: 0.0013 - PSNR: 29.2706 - val_loss: 0.0013 - val_PSNR: 29.1140\n",
      "Epoch 463/500\n",
      "1224/1224 [==============================] - 42s 34ms/step - loss: 0.0013 - PSNR: 29.3807 - val_loss: 0.0013 - val_PSNR: 29.0941\n",
      "Epoch 464/500\n",
      "1224/1224 [==============================] - 42s 34ms/step - loss: 0.0013 - PSNR: 29.3637 - val_loss: 0.0013 - val_PSNR: 29.0856\n",
      "Epoch 465/500\n",
      "1224/1224 [==============================] - 42s 34ms/step - loss: 0.0014 - PSNR: 28.8071 - val_loss: 0.0018 - val_PSNR: 27.7505\n",
      "Epoch 466/500\n",
      "1224/1224 [==============================] - 42s 34ms/step - loss: 0.0013 - PSNR: 29.0996 - val_loss: 0.0013 - val_PSNR: 29.0995\n",
      "Epoch 467/500\n",
      "1224/1224 [==============================] - 42s 34ms/step - loss: 0.0013 - PSNR: 29.3272 - val_loss: 0.0013 - val_PSNR: 29.1055\n",
      "Epoch 468/500\n",
      "1224/1224 [==============================] - 42s 34ms/step - loss: 0.0012 - PSNR: 29.3404 - val_loss: 0.0013 - val_PSNR: 29.1124\n",
      "Epoch 469/500\n",
      "1224/1224 [==============================] - 42s 34ms/step - loss: 0.0013 - PSNR: 29.3869 - val_loss: 0.0014 - val_PSNR: 28.9544\n",
      "Epoch 470/500\n",
      "1224/1224 [==============================] - 42s 34ms/step - loss: 0.0013 - PSNR: 29.3101 - val_loss: 0.0013 - val_PSNR: 29.0673\n",
      "Epoch 471/500\n",
      "1224/1224 [==============================] - 42s 34ms/step - loss: 0.0013 - PSNR: 29.2287 - val_loss: 0.0014 - val_PSNR: 28.8578\n",
      "Epoch 472/500\n",
      "1224/1224 [==============================] - 42s 34ms/step - loss: 0.0015 - PSNR: 28.6607 - val_loss: 0.0014 - val_PSNR: 28.8516\n",
      "Epoch 473/500\n",
      "1224/1224 [==============================] - 42s 34ms/step - loss: 0.0013 - PSNR: 29.2424 - val_loss: 0.0013 - val_PSNR: 29.0648\n",
      "Epoch 474/500\n",
      "1224/1224 [==============================] - 42s 34ms/step - loss: 0.0012 - PSNR: 29.4533 - val_loss: 0.0013 - val_PSNR: 29.0529\n",
      "Epoch 475/500\n",
      "1224/1224 [==============================] - 42s 34ms/step - loss: 0.0012 - PSNR: 29.3593 - val_loss: 0.0013 - val_PSNR: 29.0791\n",
      "Epoch 476/500\n",
      "1224/1224 [==============================] - 42s 34ms/step - loss: 0.0012 - PSNR: 29.4615 - val_loss: 0.0013 - val_PSNR: 29.0750\n",
      "Epoch 477/500\n",
      "1224/1224 [==============================] - 42s 34ms/step - loss: 0.0013 - PSNR: 29.3625 - val_loss: 0.0013 - val_PSNR: 29.0671\n",
      "Epoch 478/500\n",
      "1224/1224 [==============================] - 42s 34ms/step - loss: 0.0013 - PSNR: 29.2878 - val_loss: 0.0013 - val_PSNR: 29.0890\n",
      "Epoch 479/500\n",
      "1224/1224 [==============================] - 42s 35ms/step - loss: 0.0013 - PSNR: 29.3642 - val_loss: 0.0013 - val_PSNR: 29.0667\n",
      "Epoch 480/500\n",
      "1224/1224 [==============================] - 42s 34ms/step - loss: 0.0013 - PSNR: 29.3051 - val_loss: 0.0015 - val_PSNR: 28.3913\n",
      "Epoch 481/500\n",
      "1224/1224 [==============================] - 42s 35ms/step - loss: 0.0014 - PSNR: 28.8747 - val_loss: 0.0015 - val_PSNR: 28.6504\n",
      "Epoch 482/500\n",
      "1224/1224 [==============================] - 42s 35ms/step - loss: 0.0013 - PSNR: 29.1343 - val_loss: 0.0013 - val_PSNR: 29.1029\n",
      "Epoch 483/500\n",
      "1224/1224 [==============================] - 42s 34ms/step - loss: 0.0013 - PSNR: 29.2745 - val_loss: 0.0013 - val_PSNR: 29.0873\n",
      "Epoch 484/500\n",
      "1224/1224 [==============================] - 42s 34ms/step - loss: 0.0013 - PSNR: 29.0994 - val_loss: 0.0014 - val_PSNR: 28.9862\n",
      "Epoch 485/500\n",
      "1224/1224 [==============================] - 42s 35ms/step - loss: 0.0013 - PSNR: 29.2909 - val_loss: 0.0013 - val_PSNR: 29.0593\n",
      "Epoch 486/500\n",
      "1224/1224 [==============================] - 42s 34ms/step - loss: 0.0012 - PSNR: 29.3461 - val_loss: 0.0013 - val_PSNR: 29.1029\n",
      "Epoch 487/500\n",
      "1224/1224 [==============================] - 42s 35ms/step - loss: 0.0012 - PSNR: 29.5239 - val_loss: 0.0013 - val_PSNR: 29.0792\n",
      "Epoch 488/500\n",
      "1224/1224 [==============================] - 42s 34ms/step - loss: 0.0013 - PSNR: 29.3669 - val_loss: 0.0013 - val_PSNR: 29.0731\n",
      "Epoch 489/500\n",
      "1224/1224 [==============================] - 42s 35ms/step - loss: 0.0013 - PSNR: 29.2272 - val_loss: 0.0014 - val_PSNR: 28.9519\n",
      "Epoch 490/500\n",
      "1224/1224 [==============================] - 43s 35ms/step - loss: 0.0013 - PSNR: 29.3770 - val_loss: 0.0013 - val_PSNR: 29.0807\n",
      "Epoch 491/500\n",
      "1224/1224 [==============================] - 42s 35ms/step - loss: 0.0019 - PSNR: 27.5984 - val_loss: 0.0021 - val_PSNR: 26.8852\n",
      "Epoch 492/500\n",
      "1224/1224 [==============================] - 42s 34ms/step - loss: 0.0014 - PSNR: 28.9882 - val_loss: 0.0013 - val_PSNR: 29.0751\n",
      "Epoch 493/500\n",
      "1224/1224 [==============================] - 42s 34ms/step - loss: 0.0013 - PSNR: 29.3386 - val_loss: 0.0013 - val_PSNR: 29.0527\n",
      "Epoch 494/500\n",
      "1224/1224 [==============================] - 42s 35ms/step - loss: 0.0013 - PSNR: 29.1846 - val_loss: 0.0016 - val_PSNR: 28.3035\n",
      "Epoch 495/500\n",
      "1224/1224 [==============================] - 42s 34ms/step - loss: 0.0013 - PSNR: 29.3199 - val_loss: 0.0014 - val_PSNR: 28.9679\n",
      "Epoch 496/500\n",
      "1224/1224 [==============================] - 42s 34ms/step - loss: 0.0013 - PSNR: 29.3791 - val_loss: 0.0013 - val_PSNR: 29.0684\n",
      "Epoch 497/500\n",
      "1224/1224 [==============================] - 42s 34ms/step - loss: 0.0013 - PSNR: 29.3237 - val_loss: 0.0014 - val_PSNR: 28.8731\n",
      "Epoch 498/500\n",
      "1224/1224 [==============================] - 42s 34ms/step - loss: 0.0016 - PSNR: 28.2670 - val_loss: 0.0014 - val_PSNR: 28.9607\n",
      "Epoch 499/500\n",
      "1224/1224 [==============================] - 42s 35ms/step - loss: 0.0013 - PSNR: 29.2013 - val_loss: 0.0013 - val_PSNR: 29.0877\n",
      "Epoch 500/500\n",
      "1224/1224 [==============================] - 42s 34ms/step - loss: 0.0012 - PSNR: 29.3393 - val_loss: 0.0013 - val_PSNR: 29.0693\n"
     ]
    }
   ],
   "source": [
    "history = model.fit(in_train, out_train, batch_size=batch_size, epochs=nb_epoch,\n",
    "          verbose=1, validation_data=(in_valid, out_valid))"
   ]
  },
  {
   "cell_type": "code",
   "execution_count": 18,
   "metadata": {},
   "outputs": [
    {
     "name": "stdout",
     "output_type": "stream",
     "text": [
      "176/176 [==============================] - 3s 19ms/step\n",
      "[0.0013442987983580679, 29.069267868995667]\n"
     ]
    }
   ],
   "source": [
    "score = model.evaluate(in_valid, out_valid, batch_size=batch_size)\n",
    "print(score)"
   ]
  },
  {
   "cell_type": "code",
   "execution_count": 19,
   "metadata": {},
   "outputs": [
    {
     "name": "stdout",
     "output_type": "stream",
     "text": [
      "1260/1260 [==============================] - 24s 19ms/step\n",
      "[0.0020525880058162977, 27.150884696415492]\n"
     ]
    }
   ],
   "source": [
    "score = model.evaluate(in_test, out_test, batch_size=batch_size)\n",
    "print(score)"
   ]
  },
  {
   "cell_type": "code",
   "execution_count": 20,
   "metadata": {},
   "outputs": [
    {
     "data": {
      "text/plain": [
       "1329"
      ]
     },
     "execution_count": 20,
     "metadata": {},
     "output_type": "execute_result"
    }
   ],
   "source": [
    "model.save('model 2-3 color/model 2-3 color.h5')\n",
    "json_string = model.to_json()  \n",
    "open('model 2-3 color/model 2-3 color.json','w').write(json_string)"
   ]
  },
  {
   "cell_type": "code",
   "execution_count": 53,
   "metadata": {},
   "outputs": [
    {
     "data": {
      "image/png": "[encoded data removed]",
      "text/plain": [
       "<matplotlib.figure.Figure at 0x10b9d43c8>"
      ]
     },
     "metadata": {},
     "output_type": "display_data"
    }
   ],
   "source": [
    "plt.plot(np.arange(1, nb_epoch+1, 1), history.history['val_PSNR'])\n",
    "plt.plot(np.arange(1, nb_epoch+1, 1), history.history['PSNR'])\n",
    "plt.title('model 2 RGB')\n",
    "plt.ylabel('PSNR')\n",
    "plt.xlabel('epoch')\n",
    "plt.legend(['train', 'valid'], loc='lower right')\n",
    "plt.savefig(\"model 2-3 color/PSNR model 2-3 color.png\")\n",
    "plt.show()"
   ]
  },
  {
   "cell_type": "code",
   "execution_count": 36,
   "metadata": {
    "collapsed": true
   },
   "outputs": [],
   "source": [
    "layer = model.layers[0]\n",
    "weights = layer.get_weights()\n",
    "w = weights[0]\n",
    "filter1 = Image.new(mode, (w.shape[0],w.shape[1]))\n",
    "filter2 = Image.new(mode, (w.shape[0],w.shape[1]))\n",
    "filter3 = Image.new(mode, (w.shape[0],w.shape[1]))\n",
    "filter4 = Image.new(mode, (w.shape[0],w.shape[1]))\n",
    "filter5 = Image.new(mode, (w.shape[0],w.shape[1]))\n",
    "filter6 = Image.new(mode, (w.shape[0],w.shape[1]))\n",
    "filter7 = Image.new(mode, (w.shape[0],w.shape[1]))\n",
    "filter8 = Image.new(mode, (w.shape[0],w.shape[1]))\n",
    "filter9 = Image.new(mode, (w.shape[0],w.shape[1]))\n",
    "filter10 = Image.new(mode, (w.shape[0],w.shape[1]))\n",
    "p1 = filter1.load()\n",
    "p2 = filter2.load()\n",
    "p3 = filter3.load()\n",
    "p4 = filter4.load()\n",
    "p5 = filter5.load()\n",
    "p6 = filter6.load()\n",
    "p7 = filter7.load()\n",
    "p8 = filter8.load()\n",
    "p9 = filter9.load()\n",
    "p10 = filter10.load()\n",
    "w1 = np.zeros((w.shape[2],w.shape[0],w.shape[1]))\n",
    "w2 = np.zeros((w.shape[2],w.shape[0],w.shape[1]))\n",
    "w3 = np.zeros((w.shape[2],w.shape[0],w.shape[1]))\n",
    "w4 = np.zeros((w.shape[2],w.shape[0],w.shape[1]))\n",
    "w5 = np.zeros((w.shape[2],w.shape[0],w.shape[1]))\n",
    "w6 = np.zeros((w.shape[2],w.shape[0],w.shape[1]))\n",
    "w7 = np.zeros((w.shape[2],w.shape[0],w.shape[1]))\n",
    "w8 = np.zeros((w.shape[2],w.shape[0],w.shape[1]))\n",
    "w9 = np.zeros((w.shape[2],w.shape[0],w.shape[1]))\n",
    "w10 = np.zeros((w.shape[2],w.shape[0],w.shape[1]))\n",
    "for i in range(w.shape[0]):\n",
    "    for j in range(w.shape[1]):\n",
    "        helper1 = []\n",
    "        helper2 = []\n",
    "        helper3 = []\n",
    "        helper4 = []\n",
    "        helper5 = []\n",
    "        helper6 = []\n",
    "        helper7 = []\n",
    "        helper8 = []\n",
    "        helper9 = []\n",
    "        helper10 = []\n",
    "        for k in range(channels):\n",
    "            helper1.append(int(w[i][j][k][0]*255))\n",
    "            helper2.append(int(w[i][j][k][1]*255))\n",
    "            helper3.append(int(w[i][j][k][2]*255))\n",
    "            helper4.append(int(w[i][j][k][3]*255))\n",
    "            helper5.append(int(w[i][j][k][4]*255))\n",
    "            helper6.append(int(w[i][j][k][5]*255))\n",
    "            helper7.append(int(w[i][j][k][6]*255))\n",
    "            helper8.append(int(w[i][j][k][7]*255))\n",
    "            helper9.append(int(w[i][j][k][8]*255))\n",
    "            helper10.append(int(w[i][j][k][9]*255))\n",
    "            w1[k,i,j] = int(w[i][j][k][0]*255)\n",
    "            w2[k,i,j] = int(w[i][j][k][1]*255)\n",
    "            w3[k,i,j] = int(w[i][j][k][2]*255)\n",
    "            w4[k,i,j] = int(w[i][j][k][3]*255)\n",
    "            w5[k,i,j] = int(w[i][j][k][4]*255)\n",
    "            w6[k,i,j] = int(w[i][j][k][5]*255)\n",
    "            w7[k,i,j] = int(w[i][j][k][6]*255)\n",
    "            w8[k,i,j] = int(w[i][j][k][7]*255)\n",
    "            w9[k,i,j] = int(w[i][j][k][8]*255)\n",
    "            w10[k,i,j] = int(w[i][j][k][9]*255)\n",
    "        p1[i,j] = tuple(helper1)\n",
    "        p2[i,j] = tuple(helper2)\n",
    "        p3[i,j] = tuple(helper3)\n",
    "        p4[i,j] = tuple(helper4)\n",
    "        p5[i,j] = tuple(helper5)\n",
    "        p6[i,j] = tuple(helper6)\n",
    "        p7[i,j] = tuple(helper7)\n",
    "        p8[i,j] = tuple(helper8)\n",
    "        p9[i,j] = tuple(helper9)\n",
    "        p10[i,j] = tuple(helper10)\n",
    "filter1.save('model 2-3 color/filter1.png')\n",
    "filter2.save('model 2-3 color/filter2.png')\n",
    "filter3.save('model 2-3 color/filter3.png')\n",
    "filter4.save('model 2-3 color/filter4.png')\n",
    "filter5.save('model 2-3 color/filter5.png')\n",
    "filter6.save('model 2-3 color/filter6.png')\n",
    "filter7.save('model 2-3 color/filter7.png')\n",
    "filter8.save('model 2-3 color/filter8.png')\n",
    "filter9.save('model 2-3 color/filter9.png')\n",
    "filter10.save('model 2-3 color/filter10.png')"
   ]
  },
  {
   "cell_type": "code",
   "execution_count": 54,
   "metadata": {},
   "outputs": [
    {
     "data": {
      "image/png": "[encoded data removed]",
      "text/plain": [
       "<matplotlib.figure.Figure at 0x1ccde24208>"
      ]
     },
     "metadata": {},
     "output_type": "display_data"
    },
    {
     "data": {
      "image/png": "[encoded data removed]",
      "text/plain": [
       "<matplotlib.figure.Figure at 0x1c47c56780>"
      ]
     },
     "metadata": {},
     "output_type": "display_data"
    },
    {
     "data": {
      "image/png": "[encoded data removed]",
      "text/plain": [
       "<matplotlib.figure.Figure at 0x1cce1c0860>"
      ]
     },
     "metadata": {},
     "output_type": "display_data"
    }
   ],
   "source": [
    "plt.imshow(w1[0].squeeze(), cmap='Reds_r')\n",
    "plt.colorbar()\n",
    "plt.savefig(\"model 2-3 color/filterplt1 reds.png\")\n",
    "plt.show()\n",
    "\n",
    "plt.imshow(w1[1].squeeze(), cmap='Greens_r')\n",
    "plt.colorbar()\n",
    "plt.savefig(\"model 2-3 color/filterplt1 greens.png\")\n",
    "plt.show()\n",
    "\n",
    "plt.imshow(w1[2].squeeze(), cmap='Blues_r')\n",
    "plt.colorbar()\n",
    "plt.savefig(\"model 2-3 color/filterplt1 blues.png\")\n",
    "plt.show()"
   ]
  },
  {
   "cell_type": "code",
   "execution_count": 55,
   "metadata": {},
   "outputs": [
    {
     "data": {
      "image/png": "[encoded data removed]",
      "text/plain": [
       "<matplotlib.figure.Figure at 0x1cce37bb38>"
      ]
     },
     "metadata": {},
     "output_type": "display_data"
    },
    {
     "data": {
      "image/png": "[encoded data removed]",
      "text/plain": [
       "<matplotlib.figure.Figure at 0x1ccda6bf28>"
      ]
     },
     "metadata": {},
     "output_type": "display_data"
    },
    {
     "data": {
      "image/png": "[encoded data removed]",
      "text/plain": [
       "<matplotlib.figure.Figure at 0x1ccd84ef28>"
      ]
     },
     "metadata": {},
     "output_type": "display_data"
    }
   ],
   "source": [
    "plt.imshow(w2[0].squeeze(), cmap='Reds_r')\n",
    "plt.colorbar()\n",
    "plt.savefig(\"model 2-3 color/filterplt2 reds.png\")\n",
    "plt.show()\n",
    "\n",
    "plt.imshow(w2[1].squeeze(), cmap='Greens_r')\n",
    "plt.colorbar()\n",
    "plt.savefig(\"model 2-3 color/filterplt2 greens.png\")\n",
    "plt.show()\n",
    "\n",
    "plt.imshow(w2[2].squeeze(), cmap='Blues_r')\n",
    "plt.colorbar()\n",
    "plt.savefig(\"model 2-3 color/filterplt2 blues.png\")\n",
    "plt.show()"
   ]
  },
  {
   "cell_type": "code",
   "execution_count": 56,
   "metadata": {},
   "outputs": [
    {
     "data": {
      "image/png": "[encoded data removed]",
      "text/plain": [
       "<matplotlib.figure.Figure at 0x1cce556f60>"
      ]
     },
     "metadata": {},
     "output_type": "display_data"
    },
    {
     "data": {
      "image/png": "[encoded data removed]",
      "text/plain": [
       "<matplotlib.figure.Figure at 0x1cce623438>"
      ]
     },
     "metadata": {},
     "output_type": "display_data"
    },
    {
     "data": {
      "image/png": "[encoded data removed]",
      "text/plain": [
       "<matplotlib.figure.Figure at 0x1ccdac9908>"
      ]
     },
     "metadata": {},
     "output_type": "display_data"
    }
   ],
   "source": [
    "plt.imshow(w3[0].squeeze(), cmap='Reds_r')\n",
    "plt.colorbar()\n",
    "plt.savefig(\"model 2-3 color/filterplt3 reds.png\")\n",
    "plt.show()\n",
    "\n",
    "plt.imshow(w3[1].squeeze(), cmap='Greens_r')\n",
    "plt.colorbar()\n",
    "plt.savefig(\"model 2-3 color/filterplt3 greens.png\")\n",
    "plt.show()\n",
    "\n",
    "plt.imshow(w3[2].squeeze(), cmap='Blues_r')\n",
    "plt.colorbar()\n",
    "plt.savefig(\"model 2-3 color/filterplt3 blues.png\")\n",
    "plt.show()"
   ]
  },
  {
   "cell_type": "code",
   "execution_count": 57,
   "metadata": {},
   "outputs": [
    {
     "data": {
      "image/png": "[encoded data removed]",
      "text/plain": [
       "<matplotlib.figure.Figure at 0x1ccdb17748>"
      ]
     },
     "metadata": {},
     "output_type": "display_data"
    },
    {
     "data": {
      "image/png": "[encoded data removed]",
      "text/plain": [
       "<matplotlib.figure.Figure at 0x1cceabc978>"
      ]
     },
     "metadata": {},
     "output_type": "display_data"
    },
    {
     "data": {
      "image/png": "[encoded data removed]",
      "text/plain": [
       "<matplotlib.figure.Figure at 0x1cce5c1518>"
      ]
     },
     "metadata": {},
     "output_type": "display_data"
    }
   ],
   "source": [
    "plt.imshow(w4[0].squeeze(), cmap='Reds_r')\n",
    "plt.colorbar()\n",
    "plt.savefig(\"model 2-3 color/filterplt4 reds.png\")\n",
    "plt.show()\n",
    "\n",
    "plt.imshow(w4[1].squeeze(), cmap='Greens_r')\n",
    "plt.colorbar()\n",
    "plt.savefig(\"model 2-3 color/filterplt4 greens.png\")\n",
    "plt.show()\n",
    "\n",
    "plt.imshow(w4[2].squeeze(), cmap='Blues_r')\n",
    "plt.colorbar()\n",
    "plt.savefig(\"model 2-3 color/filterplt4 blues.png\")\n",
    "plt.show()"
   ]
  },
  {
   "cell_type": "code",
   "execution_count": 62,
   "metadata": {},
   "outputs": [
    {
     "data": {
      "image/png": "[encoded data removed]",
      "text/plain": [
       "<matplotlib.figure.Figure at 0x1ccda52080>"
      ]
     },
     "metadata": {},
     "output_type": "display_data"
    },
    {
     "data": {
      "image/png": "[encoded data removed]",
      "text/plain": [
       "<matplotlib.figure.Figure at 0x1c47c4b2e8>"
      ]
     },
     "metadata": {},
     "output_type": "display_data"
    },
    {
     "data": {
      "image/png": "[encoded data removed]",
      "text/plain": [
       "<matplotlib.figure.Figure at 0x1cce3dcb70>"
      ]
     },
     "metadata": {},
     "output_type": "display_data"
    }
   ],
   "source": [
    "plt.imshow(w5[0].squeeze(), cmap='Reds_r')\n",
    "plt.colorbar()\n",
    "plt.savefig(\"model 2-3 color/filterplt5 reds.png\")\n",
    "plt.show()\n",
    "\n",
    "plt.imshow(w5[1].squeeze(), cmap='Greens_r')\n",
    "plt.colorbar()\n",
    "plt.savefig(\"model 2-3 color/filterplt5 greens.png\")\n",
    "plt.show()\n",
    "\n",
    "plt.imshow(w5[2].squeeze(), cmap='Blues_r')\n",
    "plt.colorbar()\n",
    "plt.savefig(\"model 2-3 color/filterplt5 blues.png\")\n",
    "plt.show()"
   ]
  },
  {
   "cell_type": "code",
   "execution_count": 63,
   "metadata": {},
   "outputs": [
    {
     "data": {
      "image/png": "[encoded data removed]",
      "text/plain": [
       "<matplotlib.figure.Figure at 0x1ccecfb4a8>"
      ]
     },
     "metadata": {},
     "output_type": "display_data"
    },
    {
     "data": {
      "image/png": "[encoded data removed]",
      "text/plain": [
       "<matplotlib.figure.Figure at 0x1cce4e1780>"
      ]
     },
     "metadata": {},
     "output_type": "display_data"
    },
    {
     "data": {
      "image/png": "[encoded data removed]",
      "text/plain": [
       "<matplotlib.figure.Figure at 0x1ccda526d8>"
      ]
     },
     "metadata": {},
     "output_type": "display_data"
    }
   ],
   "source": [
    "plt.imshow(w6[0].squeeze(), cmap='Reds_r')\n",
    "plt.colorbar()\n",
    "plt.savefig(\"model 2-3 color/filterplt6 reds.png\")\n",
    "plt.show()\n",
    "\n",
    "plt.imshow(w6[1].squeeze(), cmap='Greens_r')\n",
    "plt.colorbar()\n",
    "plt.savefig(\"model 2-3 color/filterplt6 greens.png\")\n",
    "plt.show()\n",
    "\n",
    "plt.imshow(w6[2].squeeze(), cmap='Blues_r')\n",
    "plt.colorbar()\n",
    "plt.savefig(\"model 2-3 color/filterplt6 blues.png\")\n",
    "plt.show()"
   ]
  },
  {
   "cell_type": "code",
   "execution_count": 64,
   "metadata": {},
   "outputs": [
    {
     "data": {
      "image/png": "[encoded data removed]",
      "text/plain": [
       "<matplotlib.figure.Figure at 0x10ae9b320>"
      ]
     },
     "metadata": {},
     "output_type": "display_data"
    },
    {
     "data": {
      "image/png": "[encoded data removed]",
      "text/plain": [
       "<matplotlib.figure.Figure at 0x1ccde01438>"
      ]
     },
     "metadata": {},
     "output_type": "display_data"
    },
    {
     "data": {
      "image/png": "[encoded data removed]",
      "text/plain": [
       "<matplotlib.figure.Figure at 0x1ccdc06f28>"
      ]
     },
     "metadata": {},
     "output_type": "display_data"
    }
   ],
   "source": [
    "plt.imshow(w7[0].squeeze(), cmap='Reds_r')\n",
    "plt.colorbar()\n",
    "plt.savefig(\"model 2-3 color/filterplt7 reds.png\")\n",
    "plt.show()\n",
    "\n",
    "plt.imshow(w7[1].squeeze(), cmap='Greens_r')\n",
    "plt.colorbar()\n",
    "plt.savefig(\"model 2-3 color/filterplt7 greens.png\")\n",
    "plt.show()\n",
    "\n",
    "plt.imshow(w7[2].squeeze(), cmap='Blues_r')\n",
    "plt.colorbar()\n",
    "plt.savefig(\"model 2-3 color/filterplt7 blues.png\")\n",
    "plt.show()"
   ]
  },
  {
   "cell_type": "code",
   "execution_count": 65,
   "metadata": {},
   "outputs": [
    {
     "data": {
      "image/png": "[encoded data removed]",
      "text/plain": [
       "<matplotlib.figure.Figure at 0x1c47c525c0>"
      ]
     },
     "metadata": {},
     "output_type": "display_data"
    },
    {
     "data": {
      "image/png": "[encoded data removed]",
      "text/plain": [
       "<matplotlib.figure.Figure at 0x1cce31d780>"
      ]
     },
     "metadata": {},
     "output_type": "display_data"
    },
    {
     "data": {
      "image/png": "[encoded data removed]",
      "text/plain": [
       "<matplotlib.figure.Figure at 0x1ccddcdb00>"
      ]
     },
     "metadata": {},
     "output_type": "display_data"
    }
   ],
   "source": [
    "plt.imshow(w8[0].squeeze(), cmap='Reds_r')\n",
    "plt.colorbar()\n",
    "plt.savefig(\"model 2-3 color/filterplt8 reds.png\")\n",
    "plt.show()\n",
    "\n",
    "plt.imshow(w8[1].squeeze(), cmap='Greens_r')\n",
    "plt.colorbar()\n",
    "plt.savefig(\"model 2-3 color/filterplt8 greens.png\")\n",
    "plt.show()\n",
    "\n",
    "plt.imshow(w8[2].squeeze(), cmap='Blues_r')\n",
    "plt.colorbar()\n",
    "plt.savefig(\"model 2-3 color/filterplt8 blues.png\")\n",
    "plt.show()"
   ]
  },
  {
   "cell_type": "code",
   "execution_count": 66,
   "metadata": {},
   "outputs": [
    {
     "data": {
      "image/png": "[encoded data removed]",
      "text/plain": [
       "<matplotlib.figure.Figure at 0x1cce5754e0>"
      ]
     },
     "metadata": {},
     "output_type": "display_data"
    },
    {
     "data": {
      "image/png": "[encoded data removed]",
      "text/plain": [
       "<matplotlib.figure.Figure at 0x1ccdfe2c88>"
      ]
     },
     "metadata": {},
     "output_type": "display_data"
    },
    {
     "data": {
      "image/png": "[encoded data removed]",
      "text/plain": [
       "<matplotlib.figure.Figure at 0x1c6c3f3da0>"
      ]
     },
     "metadata": {},
     "output_type": "display_data"
    }
   ],
   "source": [
    "plt.imshow(w9[0].squeeze(), cmap='Reds_r')\n",
    "plt.colorbar()\n",
    "plt.savefig(\"model 2-3 color/filterplt9 reds.png\")\n",
    "plt.show()\n",
    "\n",
    "plt.imshow(w9[1].squeeze(), cmap='Greens_r')\n",
    "plt.colorbar()\n",
    "plt.savefig(\"model 2-3 color/filterplt9 greens.png\")\n",
    "plt.show()\n",
    "\n",
    "plt.imshow(w9[2].squeeze(), cmap='Blues_r')\n",
    "plt.colorbar()\n",
    "plt.savefig(\"model 2-3 color/filterplt9 blues.png\")\n",
    "plt.show()"
   ]
  },
  {
   "cell_type": "code",
   "execution_count": 67,
   "metadata": {},
   "outputs": [
    {
     "data": {
      "image/png": "[encoded data removed]",
      "text/plain": [
       "<matplotlib.figure.Figure at 0x1ccd8eda20>"
      ]
     },
     "metadata": {},
     "output_type": "display_data"
    },
    {
     "data": {
      "image/png": "[encoded data removed]",
      "text/plain": [
       "<matplotlib.figure.Figure at 0x1ccdab66d8>"
      ]
     },
     "metadata": {},
     "output_type": "display_data"
    },
    {
     "data": {
      "image/png": "[encoded data removed]",
      "text/plain": [
       "<matplotlib.figure.Figure at 0x1cce5cc470>"
      ]
     },
     "metadata": {},
     "output_type": "display_data"
    }
   ],
   "source": [
    "plt.imshow(w10[0].squeeze(), cmap='Reds_r')\n",
    "plt.colorbar()\n",
    "plt.savefig(\"model 2-3 color/filterplt10 reds.png\")\n",
    "plt.show()\n",
    "\n",
    "plt.imshow(w10[1].squeeze(), cmap='Greens_r')\n",
    "plt.colorbar()\n",
    "plt.savefig(\"model 2-3 color/filterplt10 greens.png\")\n",
    "plt.show()\n",
    "\n",
    "plt.imshow(w10[2].squeeze(), cmap='Blues_r')\n",
    "plt.colorbar()\n",
    "plt.savefig(\"model 2-3 color/filterplt10 blues.png\")\n",
    "plt.show()"
   ]
  },
  {
   "cell_type": "code",
   "execution_count": 30,
   "metadata": {
    "collapsed": true
   },
   "outputs": [],
   "source": [
    "model = load_model('model 2-3 color/model 2-3 color.h5', custom_objects={'PSNR': PSNR}) #если нужно выкачать модель"
   ]
  },
  {
   "cell_type": "code",
   "execution_count": 31,
   "metadata": {
    "collapsed": true
   },
   "outputs": [],
   "source": [
    "prediction = model.predict(in_test)\n",
    "prediction5 = model.predict(in_test5)\n",
    "prediction14 = model.predict(in_test14)"
   ]
  },
  {
   "cell_type": "code",
   "execution_count": 32,
   "metadata": {},
   "outputs": [
    {
     "name": "stdout",
     "output_type": "stream",
     "text": [
      "Original image\n",
      "SSIM: 1.00\n",
      "\n",
      "Bicubic image\n",
      "SSIM: 0.94\n",
      "\n",
      "Bicubic with laplasian image\n",
      "SSIM: 0.89\n",
      "\n",
      "Produced image\n",
      "SSIM: 0.96\n"
     ]
    }
   ],
   "source": [
    "threecompare(in_test[0], out_test[0], prediction[0])"
   ]
  },
  {
   "cell_type": "code",
   "execution_count": 26,
   "metadata": {},
   "outputs": [
    {
     "name": "stdout",
     "output_type": "stream",
     "text": [
      "Результаты для всей тестовой выборки\n",
      "Bicubic PSNR: 27.2078714506\n",
      "Laplasian PSNR: 26.6480874616\n",
      "Model PSNR: 29.6163484276\n",
      "\n",
      "Результаты для тестовой выборки Set5\n",
      "Bicubic PSNR: 31.0112492522\n",
      "Laplasian PSNR: 30.2345389499\n",
      "Model PSNR: 34.2854515657\n",
      "\n",
      "Результаты для тестовой выборки Set14\n",
      "Bicubic PSNR: 26.6066021658\n",
      "Laplasian PSNR: 26.0811116748\n",
      "Model PSNR: 28.8782181521\n"
     ]
    }
   ],
   "source": [
    "print('Результаты для всей тестовой выборки')\n",
    "results(in_test, out_test, prediction, img_rows, img_cols, 'all')\n",
    "\n",
    "print('\\n'+'Результаты для тестовой выборки Set5')\n",
    "results(in_test5, out_test5, prediction5, img_rows, img_cols, 'set5')\n",
    "\n",
    "print('\\n'+'Результаты для тестовой выборки Set14')\n",
    "results(in_test14, out_test14, prediction14, img_rows, img_cols, 'set14')"
   ]
  },
  {
   "cell_type": "code",
   "execution_count": 27,
   "metadata": {},
   "outputs": [
    {
     "name": "stdout",
     "output_type": "stream",
     "text": [
      "Результаты для всей тестовой выборки\n",
      "Bicubic SSIM: 0.806364225132\n",
      "Laplasian SSIM: 0.795693057826\n",
      "Model SSIM: 0.852194064811\n",
      "\n",
      "Результаты для тестовой выборки Set5\n",
      "Bicubic SSIM: 0.892216134629\n",
      "Laplasian SSIM: 0.880425167524\n",
      "Model SSIM: 0.930951279471\n",
      "\n",
      "Результаты для тестовой выборки Set14\n",
      "Bicubic SSIM: 0.792792048263\n",
      "Laplasian SSIM: 0.782297908131\n",
      "Model SSIM: 0.839743475729\n"
     ]
    }
   ],
   "source": [
    "print('Результаты для всей тестовой выборки')\n",
    "ressim(in_test, out_test, prediction, img_rows, img_cols)\n",
    "\n",
    "print('\\n'+'Результаты для тестовой выборки Set5')\n",
    "ressim(in_test5, out_test5, prediction5, img_rows, img_cols)\n",
    "\n",
    "print('\\n'+'Результаты для тестовой выборки Set14')\n",
    "ressim(in_test14, out_test14, prediction14, img_rows, img_cols)"
   ]
  }
 ],
 "metadata": {
  "kernelspec": {
   "display_name": "Python 3",
   "language": "python",
   "name": "python3"
  },
  "language_info": {
   "codemirror_mode": {
    "name": "ipython",
    "version": 3
   },
   "file_extension": ".py",
   "mimetype": "text/x-python",
   "name": "python",
   "nbconvert_exporter": "python",
   "pygments_lexer": "ipython3",
   "version": "3.6.3"
  }
 },
 "nbformat": 4,
 "nbformat_minor": 2
}
